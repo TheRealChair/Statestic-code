{
 "cells": [
  {
   "cell_type": "code",
   "execution_count": 1,
   "metadata": {},
   "outputs": [],
   "source": [
    "import math\n",
    "import numpy as np\n",
    "import matplotlib.pyplot as plt\n",
    "import pandas as pd\n",
    "import scipy.stats as stats\n",
    "import statsmodels.formula.api as smf\n",
    "import statsmodels.api as sm\n",
    "\n",
    "from math import exp\n",
    "from scipy.stats import f_oneway\n",
    "from scipy.stats import chi2_contingency\n",
    "from scipy.stats import ttest_rel\n",
    "from scipy.stats import binom\n",
    "from scipy.stats import poisson\n",
    "from scipy.stats import ttest_1samp\n",
    "from scipy.stats import mode\n",
    "from scipy.stats import ttest_ind\n",
    "from scipy.stats import norm\n",
    "from scipy.stats import t"
   ]
  },
  {
   "cell_type": "markdown",
   "metadata": {},
   "source": [
    "# Week 3\n",
    "\n",
    "# Construction Company Quality Control\n",
    "\n",
    "A construction company receives concrete items for a construction. The length of the items is assumed to be reasonably normally distributed. The following requirements for the length of the elements are specified:\n",
    "\n",
    "- **Mean (µ):** 3000 mm\n",
    "\n",
    "The company samples 9 items from a delivery, which are then measured for control. The following measurements (in mm) are recorded:\n",
    "\n",
    "3003, 3005, 2997, 3006, 2999, 2998, 3007, 3005, 3001\n",
    "\n",
    "## Task\n",
    "\n",
    "**(a)** Compute the following three statistics:\n",
    "\n",
    "1. **Sample mean**\n",
    "2. **Sample standard deviation**\n",
    "3. **Standard error of the mean**\n",
    "\n",
    "Also, provide interpretations of these statistics."
   ]
  },
  {
   "cell_type": "code",
   "execution_count": 2,
   "metadata": {},
   "outputs": [
    {
     "name": "stdout",
     "output_type": "stream",
     "text": [
      "3002.3333333333335\n",
      "3.708099243547832\n"
     ]
    }
   ],
   "source": [
    "#From the data we get the sample mean and sample standard deviation\n",
    "#x¯ = 3002.33mm and s = 3.708mm.\n",
    "\n",
    "x = np.array([3003, 3005, 2997, 3006, 2999, 2998, 3007, 3005, 3001])\n",
    "\n",
    "print(np.mean(x)) # prints the mean of the data\n",
    "\n",
    "print(np.std(x, ddof=1)) # prints the standard deviation of the data\n"
   ]
  }
 ],
 "metadata": {
  "kernelspec": {
   "display_name": "Python 3",
   "language": "python",
   "name": "python3"
  },
  "language_info": {
   "codemirror_mode": {
    "name": "ipython",
    "version": 3
   },
   "file_extension": ".py",
   "mimetype": "text/x-python",
   "name": "python",
   "nbconvert_exporter": "python",
   "pygments_lexer": "ipython3",
   "version": "3.11.9"
  }
 },
 "nbformat": 4,
 "nbformat_minor": 2
}
