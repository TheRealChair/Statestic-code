{
 "cells": [
  {
   "cell_type": "code",
   "execution_count": 4,
   "metadata": {},
   "outputs": [],
   "source": [
    "import math\n",
    "import numpy as np\n",
    "import matplotlib.pyplot as plt\n",
    "import pandas as pd\n",
    "import scipy.stats as stats\n",
    "import statsmodels.formula.api as smf\n",
    "import statsmodels.api as sm\n",
    "\n",
    "from math import exp\n",
    "from scipy.stats import f_oneway\n",
    "from scipy.stats import chi2_contingency\n",
    "from scipy.stats import ttest_rel\n",
    "from scipy.stats import binom\n",
    "from scipy.stats import poisson\n",
    "from scipy.stats import ttest_1samp\n",
    "from scipy.stats import mode\n",
    "from scipy.stats import ttest_ind\n",
    "from scipy.stats import norm"
   ]
  },
  {
   "cell_type": "markdown",
   "metadata": {},
   "source": [
    "Exercise 1\n",
    "\n",
    "Consider the following hypothesis test:\n",
    "\n",
    "H0 : µ = 18\n",
    "\n",
    "H1 : µ ̸= 18\n",
    "\n",
    "A sample with n = 48 observations provided a sample mean ¯x = 17 and a sample standard\n",
    "deviation s = 4.5. It is assumed that the sample is collected from a normal distributed population.\n",
    "\n",
    "Question I.1 (1)\n",
    "\n",
    "What is the value of the test statistic (tobs) and what are the critical values with significance\n",
    "level α = 0.05 (both answers must be correct)?"
   ]
  },
  {
   "cell_type": "code",
   "execution_count": 3,
   "metadata": {},
   "outputs": [
    {
     "ename": "NameError",
     "evalue": "name 'math' is not defined",
     "output_type": "error",
     "traceback": [
      "\u001b[1;31m---------------------------------------------------------------------------\u001b[0m",
      "\u001b[1;31mNameError\u001b[0m                                 Traceback (most recent call last)",
      "Cell \u001b[1;32mIn[3], line 12\u001b[0m\n\u001b[0;32m      9\u001b[0m df \u001b[38;5;241m=\u001b[39m n \u001b[38;5;241m-\u001b[39m \u001b[38;5;241m1\u001b[39m\n\u001b[0;32m     11\u001b[0m \u001b[38;5;66;03m# Calculate test statistic (t_obs)\u001b[39;00m\n\u001b[1;32m---> 12\u001b[0m t_obs \u001b[38;5;241m=\u001b[39m (x_bar \u001b[38;5;241m-\u001b[39m mu) \u001b[38;5;241m/\u001b[39m (s \u001b[38;5;241m/\u001b[39m \u001b[43mmath\u001b[49m\u001b[38;5;241m.\u001b[39msqrt(n))\n\u001b[0;32m     14\u001b[0m \u001b[38;5;66;03m# Calculate critical t-values for two-tailed test\u001b[39;00m\n\u001b[0;32m     15\u001b[0m t_critical_lower \u001b[38;5;241m=\u001b[39m stats\u001b[38;5;241m.\u001b[39mt\u001b[38;5;241m.\u001b[39mppf(alpha \u001b[38;5;241m/\u001b[39m \u001b[38;5;241m2\u001b[39m, df)  \u001b[38;5;66;03m# Lower critical value\u001b[39;00m\n",
      "\u001b[1;31mNameError\u001b[0m: name 'math' is not defined"
     ]
    }
   ],
   "source": [
    "# Given values\n",
    "mu = 18  # Null hypothesis mean\n",
    "x_bar = 17  # Sample mean\n",
    "s = 4.5  # Sample standard deviation\n",
    "n = 48  # Sample size\n",
    "alpha = 0.05  # Significance level\n",
    "\n",
    "# Degrees of freedom\n",
    "df = n - 1\n",
    "\n",
    "# Calculate test statistic (t_obs)\n",
    "t_obs = (x_bar - mu) / (s / math.sqrt(n))\n",
    "\n",
    "# Calculate critical t-values for two-tailed test\n",
    "t_critical_lower = stats.t.ppf(alpha / 2, df)  # Lower critical value\n",
    "t_critical_upper = stats.t.ppf(1 - alpha / 2, df)  # Upper critical value\n",
    "\n",
    "# Output results\n",
    "print(\"Test Statistic (t_obs):\", t_obs)\n",
    "print(\"Critical Values (t_critical_lower, t_critical_upper):\", (t_critical_lower, t_critical_upper))"
   ]
  }
 ],
 "metadata": {
  "kernelspec": {
   "display_name": "Python 3",
   "language": "python",
   "name": "python3"
  },
  "language_info": {
   "codemirror_mode": {
    "name": "ipython",
    "version": 3
   },
   "file_extension": ".py",
   "mimetype": "text/x-python",
   "name": "python",
   "nbconvert_exporter": "python",
   "pygments_lexer": "ipython3",
   "version": "3.11.9"
  }
 },
 "nbformat": 4,
 "nbformat_minor": 2
}
