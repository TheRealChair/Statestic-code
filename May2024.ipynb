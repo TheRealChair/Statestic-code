{
 "cells": [
  {
   "cell_type": "code",
   "execution_count": 4,
   "metadata": {},
   "outputs": [],
   "source": [
    "import math\n",
    "import numpy as np\n",
    "import matplotlib.pyplot as plt\n",
    "import pandas as pd\n",
    "import scipy.stats as stats\n",
    "import statsmodels.formula.api as smf\n",
    "import statsmodels.api as sm\n",
    "\n",
    "from math import exp\n",
    "from scipy.stats import f_oneway\n",
    "from scipy.stats import chi2_contingency\n",
    "from scipy.stats import ttest_rel\n",
    "from scipy.stats import binom\n",
    "from scipy.stats import poisson\n",
    "from scipy.stats import ttest_1samp\n",
    "from scipy.stats import mode\n",
    "from scipy.stats import ttest_ind\n",
    "from scipy.stats import norm\n",
    "from scipy.stats import t"
   ]
  },
  {
   "cell_type": "markdown",
   "metadata": {},
   "source": [
    "Exercise 1\n",
    "\n",
    "Consider the following hypothesis test:\n",
    "\n",
    "H0 : µ = 18\n",
    "\n",
    "H1 : µ ̸= 18\n",
    "\n",
    "A sample with n = 48 observations provided a sample mean ¯x = 17 and a sample standard\n",
    "deviation s = 4.5. It is assumed that the sample is collected from a normal distributed population.\n",
    "\n",
    "Question I.1 (1)\n",
    "\n",
    "What is the value of the test statistic (tobs) and what are the critical values with significance\n",
    "level α = 0.05 (both answers must be correct)?"
   ]
  },
  {
   "cell_type": "code",
   "execution_count": 2,
   "metadata": {},
   "outputs": [
    {
     "name": "stdout",
     "output_type": "stream",
     "text": [
      "Test Statistic (t_obs): -1.539600717839002\n",
      "Critical Values (t_critical_lower, t_critical_upper): (-2.011740513729766, 2.0117405137297655)\n"
     ]
    }
   ],
   "source": [
    "# Given values\n",
    "mu = 18  # Null hypothesis mean\n",
    "x_bar = 17  # Sample mean\n",
    "s = 4.5  # Sample standard deviation\n",
    "n = 48  # Sample size\n",
    "alpha = 0.05  # Significance level\n",
    "\n",
    "# Degrees of freedom\n",
    "df = n - 1\n",
    "\n",
    "# Calculate test statistic (t_obs)\n",
    "t_obs = (x_bar - mu) / (s / math.sqrt(n))\n",
    "\n",
    "# Calculate critical t-values for two-tailed test\n",
    "t_critical_lower = stats.t.ppf(alpha / 2, df)  # Lower critical value\n",
    "t_critical_upper = stats.t.ppf(1 - alpha / 2, df)  # Upper critical value\n",
    "\n",
    "# Output results\n",
    "print(\"Test Statistic (t_obs):\", t_obs)\n",
    "print(\"Critical Values (t_critical_lower, t_critical_upper):\", (t_critical_lower, t_critical_upper))"
   ]
  },
  {
   "cell_type": "markdown",
   "metadata": {},
   "source": [
    "So the awnser must be 1"
   ]
  },
  {
   "cell_type": "markdown",
   "metadata": {},
   "source": [
    "Question I.2 (2)\n",
    "\n",
    "From another sample of n = 45 observations, the value of the test statistic (tobs) is -1.74.\n",
    "Compute the p-value and draw a conclusion using significance level α = 0.05 (both must be\n",
    "correct)"
   ]
  },
  {
   "cell_type": "code",
   "execution_count": 5,
   "metadata": {},
   "outputs": [
    {
     "name": "stdout",
     "output_type": "stream",
     "text": [
      "t-Statistic (t_obs): -1.74\n",
      "Degrees of Freedom: 44\n",
      "p-value: 0.08885012244793078\n",
      "Conclusion: Fail to reject the null hypothesis (H0).\n"
     ]
    }
   ],
   "source": [
    "# Given values\n",
    "t_obs = -1.74\n",
    "n = 45\n",
    "alpha = 0.05\n",
    "\n",
    "# Degrees of freedom\n",
    "df = n - 1\n",
    "\n",
    "# Calculate p-value for two-tailed test\n",
    "p_value = 2 * t.cdf(t_obs, df)\n",
    "\n",
    "# Decision\n",
    "if p_value < alpha:\n",
    "    conclusion = \"Reject the null hypothesis (H0).\"\n",
    "else:\n",
    "    conclusion = \"Fail to reject the null hypothesis (H0).\"\n",
    "\n",
    "# Output\n",
    "print(f\"t-Statistic (t_obs): {t_obs}\")\n",
    "print(f\"Degrees of Freedom: {df}\")\n",
    "print(f\"p-value: {p_value}\")\n",
    "print(f\"Conclusion: {conclusion}\")"
   ]
  },
  {
   "cell_type": "markdown",
   "metadata": {},
   "source": [
    "Since the p-value is 0.08885012244793078 we round up and the anwser must be 1. The p-value is 0.0889. We do not reject the null hypothesis"
   ]
  },
  {
   "cell_type": "markdown",
   "metadata": {},
   "source": [
    "Exerice II\n",
    "\n",
    "A random sample of n = 30 observations is collected and the sample mean is estimated to be\n",
    "x¯ = 1.01 and the sample standard deviation s = 0.09.\n",
    "\n",
    "Question II.1 (3)\n",
    "\n",
    "What is the 95% confidence interval for the standard deviation?"
   ]
  },
  {
   "cell_type": "code",
   "execution_count": 6,
   "metadata": {},
   "outputs": [
    {
     "data": {
      "text/plain": [
       "(0.07167662394863719, 0.12098836613164021)"
      ]
     },
     "execution_count": 6,
     "metadata": {},
     "output_type": "execute_result"
    }
   ],
   "source": [
    "# Given values\n",
    "n = 30  # sample size\n",
    "s = 0.09  # sample standard deviation\n",
    "alpha = 0.05  # significance level\n",
    "df = n - 1  # degrees of freedom\n",
    "\n",
    "# Calculate chi-square critical values\n",
    "chi2_lower = stats.chi2.ppf(alpha / 2, df)  # lower critical value\n",
    "chi2_upper = stats.chi2.ppf(1 - alpha / 2, df)  # upper critical value\n",
    "\n",
    "# Confidence interval for standard deviation\n",
    "std_lower = np.sqrt((df * s**2) / chi2_upper)  # lower bound\n",
    "std_upper = np.sqrt((df * s**2) / chi2_lower)  # upper bound\n",
    "std_lower, std_upper"
   ]
  },
  {
   "cell_type": "markdown",
   "metadata": {},
   "source": [
    "Again we round up a bit and the awnser is 5"
   ]
  },
  {
   "cell_type": "markdown",
   "metadata": {},
   "source": [
    "Exercise III\n",
    "\n",
    "The outcome of an experiment is described by the random variable X, where X has the following\n",
    "density function:\n",
    "\n",
    "x     0    1    2   3  4\n",
    "\n",
    "f(x) 0.17 0.22 0.28 0 0.33\n",
    "\n",
    "Question III.1 (4)\n",
    "\n",
    "What is the probability P(X < 3)"
   ]
  },
  {
   "cell_type": "code",
   "execution_count": 7,
   "metadata": {},
   "outputs": [
    {
     "name": "stdout",
     "output_type": "stream",
     "text": [
      "P(X < 3): 0.67\n",
      "Variance of X: 2.21\n"
     ]
    }
   ],
   "source": [
    "# Values for X and corresponding probabilities f(x)\n",
    "X = [0, 1, 2, 3, 4]\n",
    "f_x = [0.17, 0.22, 0.28, 0, 0.33]\n",
    "# Calculate P(X < 3)\n",
    "P_X_less_3 = sum([f_x[i] for i in range(len(X)) if X[i] < 3])  #change 3 to change the range\n",
    "print(\"P(X < 3):\", P_X_less_3)"
   ]
  },
  {
   "cell_type": "markdown",
   "metadata": {},
   "source": [
    "The awnser is 5"
   ]
  },
  {
   "cell_type": "markdown",
   "metadata": {},
   "source": [
    "Question III.2 (5)\n",
    "\n",
    "The mean of X is 2.10. What is the variance of X?"
   ]
  },
  {
   "cell_type": "code",
   "execution_count": 9,
   "metadata": {},
   "outputs": [
    {
     "name": "stdout",
     "output_type": "stream",
     "text": [
      "Variance of X: 2.21\n"
     ]
    }
   ],
   "source": [
    "mean_X = 2.10  # Provided\n",
    "\n",
    "# Calculate E[X^2]\n",
    "E_X2 = sum([X[i]**2 * f_x[i] for i in range(len(X))])\n",
    "\n",
    "# Calculate variance\n",
    "variance_X = E_X2 - mean_X**2\n",
    "print(\"Variance of X:\", variance_X)"
   ]
  },
  {
   "cell_type": "markdown",
   "metadata": {},
   "source": [
    "The awnser is 3"
   ]
  }
 ],
 "metadata": {
  "kernelspec": {
   "display_name": "Python 3",
   "language": "python",
   "name": "python3"
  },
  "language_info": {
   "codemirror_mode": {
    "name": "ipython",
    "version": 3
   },
   "file_extension": ".py",
   "mimetype": "text/x-python",
   "name": "python",
   "nbconvert_exporter": "python",
   "pygments_lexer": "ipython3",
   "version": "3.11.9"
  }
 },
 "nbformat": 4,
 "nbformat_minor": 2
}
