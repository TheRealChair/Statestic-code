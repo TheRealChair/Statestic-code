{
 "cells": [
  {
   "cell_type": "code",
   "execution_count": 1,
   "metadata": {},
   "outputs": [],
   "source": [
    "import math\n",
    "import numpy as np\n",
    "import matplotlib.pyplot as plt\n",
    "import pandas as pd\n",
    "import scipy.stats as stats\n",
    "import statsmodels.formula.api as smf\n",
    "import statsmodels.api as sm\n",
    "\n",
    "from math import exp\n",
    "from math import sqrt\n",
    "from math import ceil\n",
    "from scipy.stats import f_oneway\n",
    "from scipy.stats import chi2_contingency\n",
    "from scipy.stats import ttest_rel\n",
    "from scipy.stats import binom\n",
    "from scipy.stats import poisson\n",
    "from scipy.stats import ttest_1samp\n",
    "from scipy.stats import mode\n",
    "from scipy.stats import ttest_ind\n",
    "from scipy.stats import norm\n",
    "from scipy.stats import t"
   ]
  },
  {
   "cell_type": "markdown",
   "metadata": {},
   "source": [
    "Exercise 1\n",
    "\n",
    "Consider the following hypothesis test:\n",
    "\n",
    "H0 : µ = 18\n",
    "\n",
    "H1 : µ ̸= 18\n",
    "\n",
    "A sample with n = 48 observations provided a sample mean ¯x = 17 and a sample standard\n",
    "deviation s = 4.5. It is assumed that the sample is collected from a normal distributed population.\n",
    "\n",
    "Question I.1 (1)\n",
    "\n",
    "What is the value of the test statistic (tobs) and what are the critical values with significance\n",
    "level α = 0.05 (both answers must be correct)?"
   ]
  },
  {
   "cell_type": "code",
   "execution_count": 2,
   "metadata": {},
   "outputs": [
    {
     "name": "stdout",
     "output_type": "stream",
     "text": [
      "Test Statistic (t_obs): -1.539600717839002\n",
      "Critical Values (t_critical_lower, t_critical_upper): (-2.011740513729766, 2.0117405137297655)\n"
     ]
    }
   ],
   "source": [
    "# Given values\n",
    "mu = 18  # Null hypothesis mean\n",
    "x_bar = 17  # Sample mean\n",
    "s = 4.5  # Sample standard deviation\n",
    "n = 48  # Sample size\n",
    "alpha = 0.05  # Significance level\n",
    "\n",
    "# Degrees of freedom\n",
    "df = n - 1\n",
    "\n",
    "# Calculate test statistic (t_obs)\n",
    "t_obs = (x_bar - mu) / (s / math.sqrt(n))\n",
    "\n",
    "# Calculate critical t-values for two-tailed test\n",
    "t_critical_lower = stats.t.ppf(alpha / 2, df)  # Lower critical value\n",
    "t_critical_upper = stats.t.ppf(1 - alpha / 2, df)  # Upper critical value\n",
    "\n",
    "# Output results\n",
    "print(\"Test Statistic (t_obs):\", t_obs)\n",
    "print(\"Critical Values (t_critical_lower, t_critical_upper):\", (t_critical_lower, t_critical_upper))"
   ]
  },
  {
   "cell_type": "markdown",
   "metadata": {},
   "source": [
    "So the awnser must be 1"
   ]
  },
  {
   "cell_type": "markdown",
   "metadata": {},
   "source": [
    "Question I.2 (2)\n",
    "\n",
    "From another sample of n = 45 observations, the value of the test statistic (tobs) is -1.74.\n",
    "Compute the p-value and draw a conclusion using significance level α = 0.05 (both must be\n",
    "correct)"
   ]
  },
  {
   "cell_type": "code",
   "execution_count": 5,
   "metadata": {},
   "outputs": [
    {
     "name": "stdout",
     "output_type": "stream",
     "text": [
      "t-Statistic (t_obs): -1.74\n",
      "Degrees of Freedom: 44\n",
      "p-value: 0.08885012244793078\n",
      "Conclusion: Fail to reject the null hypothesis (H0).\n"
     ]
    }
   ],
   "source": [
    "# Given values\n",
    "t_obs = -1.74\n",
    "n = 45\n",
    "alpha = 0.05\n",
    "\n",
    "# Degrees of freedom\n",
    "df = n - 1\n",
    "\n",
    "# Calculate p-value for two-tailed test\n",
    "p_value = 2 * t.cdf(t_obs, df)\n",
    "\n",
    "# Decision\n",
    "if p_value < alpha:\n",
    "    conclusion = \"Reject the null hypothesis (H0).\"\n",
    "else:\n",
    "    conclusion = \"Fail to reject the null hypothesis (H0).\"\n",
    "\n",
    "# Output\n",
    "print(f\"t-Statistic (t_obs): {t_obs}\")\n",
    "print(f\"Degrees of Freedom: {df}\")\n",
    "print(f\"p-value: {p_value}\")\n",
    "print(f\"Conclusion: {conclusion}\")"
   ]
  },
  {
   "cell_type": "markdown",
   "metadata": {},
   "source": [
    "Since the p-value is 0.08885012244793078 we round up and the anwser must be 1. The p-value is 0.0889. We do not reject the null hypothesis"
   ]
  },
  {
   "cell_type": "markdown",
   "metadata": {},
   "source": [
    "Exerice II\n",
    "\n",
    "A random sample of n = 30 observations is collected and the sample mean is estimated to be\n",
    "x¯ = 1.01 and the sample standard deviation s = 0.09.\n",
    "\n",
    "Question II.1 (3)\n",
    "\n",
    "What is the 95% confidence interval for the standard deviation?"
   ]
  },
  {
   "cell_type": "code",
   "execution_count": 6,
   "metadata": {},
   "outputs": [
    {
     "data": {
      "text/plain": [
       "(0.07167662394863719, 0.12098836613164021)"
      ]
     },
     "execution_count": 6,
     "metadata": {},
     "output_type": "execute_result"
    }
   ],
   "source": [
    "# Given values\n",
    "n = 30  # sample size\n",
    "s = 0.09  # sample standard deviation\n",
    "alpha = 0.05  # significance level\n",
    "df = n - 1  # degrees of freedom\n",
    "\n",
    "# Calculate chi-square critical values\n",
    "chi2_lower = stats.chi2.ppf(alpha / 2, df)  # lower critical value\n",
    "chi2_upper = stats.chi2.ppf(1 - alpha / 2, df)  # upper critical value\n",
    "\n",
    "# Confidence interval for standard deviation\n",
    "std_lower = np.sqrt((df * s**2) / chi2_upper)  # lower bound\n",
    "std_upper = np.sqrt((df * s**2) / chi2_lower)  # upper bound\n",
    "std_lower, std_upper"
   ]
  },
  {
   "cell_type": "markdown",
   "metadata": {},
   "source": [
    "Again we round up a bit and the awnser is 5"
   ]
  },
  {
   "cell_type": "markdown",
   "metadata": {},
   "source": [
    "Exercise III\n",
    "\n",
    "The outcome of an experiment is described by the random variable X, where X has the following\n",
    "density function:\n",
    "\n",
    "x     0    1    2   3  4\n",
    "\n",
    "f(x) 0.17 0.22 0.28 0 0.33\n",
    "\n",
    "Question III.1 (4)\n",
    "\n",
    "What is the probability P(X < 3)"
   ]
  },
  {
   "cell_type": "code",
   "execution_count": 7,
   "metadata": {},
   "outputs": [
    {
     "name": "stdout",
     "output_type": "stream",
     "text": [
      "P(X < 3): 0.67\n",
      "Variance of X: 2.21\n"
     ]
    }
   ],
   "source": [
    "# Values for X and corresponding probabilities f(x)\n",
    "X = [0, 1, 2, 3, 4]\n",
    "f_x = [0.17, 0.22, 0.28, 0, 0.33]\n",
    "# Calculate P(X < 3)\n",
    "P_X_less_3 = sum([f_x[i] for i in range(len(X)) if X[i] < 3])  #change 3 to change the range\n",
    "print(\"P(X < 3):\", P_X_less_3)"
   ]
  },
  {
   "cell_type": "markdown",
   "metadata": {},
   "source": [
    "The awnser is 5"
   ]
  },
  {
   "cell_type": "markdown",
   "metadata": {},
   "source": [
    "Question III.2 (5)\n",
    "\n",
    "The mean of X is 2.10. What is the variance of X?"
   ]
  },
  {
   "cell_type": "code",
   "execution_count": 9,
   "metadata": {},
   "outputs": [
    {
     "name": "stdout",
     "output_type": "stream",
     "text": [
      "Variance of X: 2.21\n"
     ]
    }
   ],
   "source": [
    "mean_X = 2.10  # Provided\n",
    "\n",
    "# Calculate E[X^2]\n",
    "E_X2 = sum([X[i]**2 * f_x[i] for i in range(len(X))])\n",
    "\n",
    "# Calculate variance\n",
    "variance_X = E_X2 - mean_X**2\n",
    "print(\"Variance of X:\", variance_X)"
   ]
  },
  {
   "cell_type": "markdown",
   "metadata": {},
   "source": [
    "The awnser is 3"
   ]
  },
  {
   "cell_type": "markdown",
   "metadata": {},
   "source": [
    "Exercise IV\n",
    "\n",
    "A survey has been conducted to assess the concentration (we shall disregard the unit) of a\n",
    "chemical compound in the soil in four different locations. The measured concentrations from\n",
    "the survey are given in the below table:\n",
    "\n",
    "Location 1      Location 2      Location 3      Location 4\n",
    "\n",
    "253.7           261.1           257.9           244.1\n",
    "\n",
    "241.2           244.2           263.5           244.9\n",
    "\n",
    "255.8           250.5           258.6           243.9\n",
    "\n",
    "249.3           264.9                           247.1\n",
    "\n",
    "                259.3\n",
    "\n",
    "The overall average concentration found across all four locations is 252.5 and the average\n",
    "concentrations for each location are listed below:\n",
    "\n",
    "Location                1       2       3       4\n",
    "\n",
    "Average concentration   250.0   256.0   260.0   245.0\n",
    "\n",
    "We then fit a one-way ANOVA model on the form\n",
    "\n",
    "Yij = µ + αi + εij ,\n",
    "\n",
    "where the errors εij are independent and follow normal distributions with mean 0 and variance σ^2. The overall mean is µ and the effect of Location i is αi. The ANOVA table associated with\n",
    "the model shows that the total sum of squares, SST, is 915.92 and the location sum of squares,\n",
    "SS(Location), is 480.00.\n",
    "\n",
    "Question IV.1 (6)\n",
    "\n",
    "What is the estimate of the effect of Location 1?"
   ]
  },
  {
   "cell_type": "code",
   "execution_count": 29,
   "metadata": {},
   "outputs": [
    {
     "name": "stdout",
     "output_type": "stream",
     "text": [
      "Overall Average Concentration (mu): 252.5\n",
      "\n",
      "Effect of Location 1: -2.50\n"
     ]
    }
   ],
   "source": [
    "# Data for the four locations\n",
    "location_1 = [253.7, 241.2, 255.8, 249.3]\n",
    "location_2 = [261.1, 244.2, 250.5, 264.9, 259.3]\n",
    "location_3 = [257.9, 263.5, 258.6]\n",
    "location_4 = [244.1, 244.9, 243.9, 247.1]\n",
    "\n",
    "# Combine all observations into one list\n",
    "all_data = location_1 + location_2 + location_3 + location_4\n",
    "\n",
    "#----- Change all of the code above this line to your own data -----#\n",
    "\n",
    "# Calculate the overall average\n",
    "overall_avg = sum(all_data) / len(all_data)\n",
    "\n",
    "# Output the result\n",
    "print(f\"Overall Average Concentration (mu): {overall_avg}\\n\")\n",
    "\n",
    "# Given data\n",
    "mean_location_1 = 250  # Average concentration for Location 1\n",
    "overall_avg = 252.5  # Overall mean concentration\n",
    "\n",
    "# Calculate the effect of Location 1\n",
    "effect_location_1 = mean_location_1 - overall_avg\n",
    "print(f\"Effect of Location 1: {effect_location_1:.2f}\")"
   ]
  },
  {
   "cell_type": "markdown",
   "metadata": {},
   "source": [
    "So the awnser is 1.  -2.5"
   ]
  },
  {
   "cell_type": "markdown",
   "metadata": {},
   "source": [
    "Question IV.2 (7)\n",
    "\n",
    "What is the estimate of the error standard deviation?"
   ]
  },
  {
   "cell_type": "code",
   "execution_count": 30,
   "metadata": {},
   "outputs": [
    {
     "name": "stdout",
     "output_type": "stream",
     "text": [
      "Total Sum of Squares (SST): 915.9200\n",
      "Location Sum of Squares (SS(Location)): 480.0000\n",
      "Residual Sum of Squares (SS_Error): 435.9200\n",
      "Degrees of Freedom for Error: 12\n",
      "Estimate of the Error Standard Deviation: 6.0272\n"
     ]
    }
   ],
   "source": [
    "avg_location_1 = sum(location_1) / len(location_1)\n",
    "avg_location_2 = sum(location_2) / len(location_2)\n",
    "avg_location_3 = sum(location_3) / len(location_3)\n",
    "avg_location_4 = sum(location_4) / len(location_4)\n",
    "\n",
    "# Total Sum of Squares (SST)\n",
    "SST = sum((x - overall_avg) ** 2 for x in all_data)\n",
    "\n",
    "# Location Sum of Squares (SS(Location))\n",
    "SS_location = (\n",
    "    len(location_1) * (avg_location_1 - overall_avg) ** 2\n",
    "    + len(location_2) * (avg_location_2 - overall_avg) ** 2\n",
    "    + len(location_3) * (avg_location_3 - overall_avg) ** 2\n",
    "    + len(location_4) * (avg_location_4 - overall_avg) ** 2\n",
    ")\n",
    "\n",
    "# Residual Sum of Squares (SS_Error)\n",
    "SS_error = SST - SS_location\n",
    "\n",
    "# Degrees of freedom for error\n",
    "df_error = len(all_data) - 4  # Total observations minus the number of locations\n",
    "\n",
    "# Error standard deviation\n",
    "error_std_dev = math.sqrt(SS_error / df_error)\n",
    "\n",
    "# Output results\n",
    "print(f\"Total Sum of Squares (SST): {SST:.4f}\")\n",
    "print(f\"Location Sum of Squares (SS(Location)): {SS_location:.4f}\")\n",
    "print(f\"Residual Sum of Squares (SS_Error): {SS_error:.4f}\")\n",
    "print(f\"Degrees of Freedom for Error: {df_error}\")\n",
    "print(f\"Estimate of the Error Standard Deviation: {error_std_dev:.4f}\")"
   ]
  },
  {
   "cell_type": "markdown",
   "metadata": {},
   "source": [
    "So here the awnser is 1.  6.0272"
   ]
  },
  {
   "cell_type": "markdown",
   "metadata": {},
   "source": [
    "Exercise V\n",
    "\n",
    "12 observations of perfluorooctanesulfonic acid (PFOS) at six different concentrations were analysed using a new experimental testing method SPETT.\n",
    "\n",
    "PFOS concentrations are measured in mg/kg.\n",
    "\n",
    "x = np.array([0, 0, 2, 2, 4, 4, 6, 6, 8, 8, 12, 12])  # PFOS concentrations\n",
    "\n",
    "y = np.array([16, 116, 1170, 841, 2287, 2012, 2653, 3333, 4270, 3999, 5750, 5407])  # SPETT values\n",
    "\n",
    "The linear regression model\n",
    "\n",
    "Yi = β0 + β1xi + εi, where εi ∼ N(0, σ2) and i.i.d. for i = 1, . . . , 12,\n",
    "\n",
    "was set up, where Yi is the SPETT value and xi the PFOS concentration of the i’th observation.\n",
    "\n",
    "Note that in the remaining of the exercise, the normal distribution and i.i.d. assumptions of the errors are implicit (hence not written with the model).\n",
    "\n",
    "\n",
    "Question V.1 (8)\n",
    "\n",
    "What is the estimate of β1?\n"
   ]
  },
  {
   "cell_type": "code",
   "execution_count": 42,
   "metadata": {},
   "outputs": [
    {
     "name": "stdout",
     "output_type": "stream",
     "text": [
      "Estimated β1: 467.6\n"
     ]
    }
   ],
   "source": [
    "# Given data\n",
    "x = np.array([0, 0, 2, 2, 4, 4, 6, 6, 8, 8, 12, 12])  # PFOS concentrations\n",
    "y = np.array([16, 116, 1170, 841, 2287, 2012, 2653, 3333, 4270, 3999, 5750, 5407])  # SPETT values\n",
    "\n",
    "# Step 1: Calculate means of x and y\n",
    "mean_x = np.mean(x)\n",
    "mean_y = np.mean(y)\n",
    "\n",
    "# Step 2: Calculate the numerator and denominator for β1\n",
    "numerator = np.sum((x - mean_x) * (y - mean_y))\n",
    "denominator = np.sum((x - mean_x) ** 2)\n",
    "\n",
    "# Step 3: Calculate the estimate of β1\n",
    "beta_1 = numerator / denominator\n",
    "\n",
    "# Print the result\n",
    "print(f\"Estimated β1: {beta_1:.1f}\")"
   ]
  },
  {
   "cell_type": "markdown",
   "metadata": {},
   "source": [
    "Here the awnser is 2."
   ]
  },
  {
   "cell_type": "markdown",
   "metadata": {},
   "source": [
    "Question V.2 (9)\n",
    "\n",
    "We wish to test the hypothesis H0 : β0 = 0, as this would indicate whether the expected SPETT value is zero for a PFOS concentration of zero. We use a significance level of α = 0.05."
   ]
  },
  {
   "cell_type": "code",
   "execution_count": 39,
   "metadata": {},
   "outputs": [
    {
     "name": "stdout",
     "output_type": "stream",
     "text": [
      "P-value for testing H0: β0 = 0: 0.2300\n",
      "\n",
      "More Calculations\n",
      "Intercept (β0): 160.73\n",
      "Slope (β1): 467.58\n",
      "R-squared: 0.984\n",
      "P-values: [2.30046902e-01 2.73980001e-10]\n",
      "Fail to reject H0: Insufficient evidence to conclude β0 is different from 0.\n"
     ]
    }
   ],
   "source": [
    "# Add intercept (for β0)\n",
    "X = sm.add_constant(x)\n",
    "\n",
    "# Fit the model\n",
    "model = sm.OLS(y, X).fit()\n",
    "\n",
    "# Extract p-value for the intercept (β0)\n",
    "p_value_beta_0 = model.pvalues[0]  # p-value for the intercept\n",
    "\n",
    "# Output the result\n",
    "print(f\"P-value for testing H0: β0 = 0: {p_value_beta_0:.4f}\\n\")\n",
    "\n",
    "print(\"More Calculations:\")\n",
    "# Extract key statistics\n",
    "intercept, slope = model.params\n",
    "r_squared = model.rsquared\n",
    "p_values = model.pvalues\n",
    "t_stat = model.tvalues[0]  # t-statistic for the intercept\n",
    "t_critical = stats.t.ppf(1 - alpha / 2, df_error)  # critical t-value for two-tailed test\n",
    "\n",
    "# Print key results\n",
    "print(f\"Intercept (β0): {intercept:.2f}\")\n",
    "print(f\"Slope (β1): {slope:.2f}\")\n",
    "print(f\"R-squared: {r_squared:.3f}\")\n",
    "print(f\"P-values: {p_values}\")\n",
    "\n",
    "# Conclusion\n",
    "if abs(t_stat) > t_critical:\n",
    "    print(\"Reject H0: β0 is significantly different from 0.\")\n",
    "else:\n",
    "    print(\"Fail to reject H0: Insufficient evidence to conclude β0 is different from 0.\")"
   ]
  },
  {
   "cell_type": "markdown",
   "metadata": {},
   "source": [
    "Here the awnser is 2 and we do not reject the null hypothesis."
   ]
  },
  {
   "cell_type": "markdown",
   "metadata": {},
   "source": [
    "Question V.3 (10)\n",
    "\n",
    "Researchers would like to know the uncertainty of the SPETT value for a new observation with PFOS concentration 7 mg/kg. What is the 95% prediction interval at this concentration?\n"
   ]
  },
  {
   "cell_type": "code",
   "execution_count": 43,
   "metadata": {},
   "outputs": [
    {
     "name": "stdout",
     "output_type": "stream",
     "text": [
      "Predicted SPETT value at PFOS concentration 7: 3433.80\n",
      "95% Prediction Interval: (2829.04, 4038.57)\n"
     ]
    }
   ],
   "source": [
    "new_x = 7  # New PFOS concentration  --Change to get the prediction for a different value--\n",
    "\n",
    "# Predicted SPETT value for new_x\n",
    "beta_0, beta_1 = model.params\n",
    "y_pred = beta_0 + beta_1 * new_x\n",
    "\n",
    "# Residual sum of squares (RSS)\n",
    "RSS = np.sum((y - model.predict(X)) ** 2)\n",
    "\n",
    "# Degrees of freedom\n",
    "n = len(x)\n",
    "df_error = n - 2\n",
    "\n",
    "# Standard error for prediction\n",
    "mean_x = np.mean(x)\n",
    "denominator = np.sum((x - mean_x) ** 2)\n",
    "SE_pred = np.sqrt((RSS / df_error) * (1 + 1/n + (new_x - mean_x) ** 2 / denominator))\n",
    "\n",
    "# Critical t-value for 95% confidence\n",
    "alpha = 0.05\n",
    "t_critical = t.ppf(1 - alpha / 2, df_error)\n",
    "\n",
    "# Prediction interval\n",
    "lower_bound = y_pred - t_critical * SE_pred\n",
    "upper_bound = y_pred + t_critical * SE_pred\n",
    "\n",
    "# Output results\n",
    "print(f\"Predicted SPETT value at PFOS concentration {new_x}: {y_pred:.2f}\")\n",
    "print(f\"95% Prediction Interval: ({lower_bound:.2f}, {upper_bound:.2f})\")"
   ]
  },
  {
   "cell_type": "markdown",
   "metadata": {},
   "source": [
    "So here the awnser is 1. [2829, 4039]"
   ]
  },
  {
   "cell_type": "markdown",
   "metadata": {},
   "source": [
    "Exercise VI\n",
    "\n",
    "In a high quality paper factory the production occurs in batches. In a quality check experiment,\n",
    "batches were randomly selected, i.e. the quality is independent between the selected batches. In\n",
    "the first quality check 20 out of 85 batches were found to not live up to the quality requirement.\n",
    "\n",
    "Question VI.1 (11)\n",
    "\n",
    "What is the confidence interval calculated at a significance level α = 10% for the proportion\n",
    "not living up to the quality requirements (note, use formula to get the correct answer)?\n"
   ]
  },
  {
   "cell_type": "code",
   "execution_count": 5,
   "metadata": {},
   "outputs": [
    {
     "name": "stdout",
     "output_type": "stream",
     "text": [
      "Confidence Interval: (0.1596, 0.3110)\n"
     ]
    }
   ],
   "source": [
    "# this task is to calculate the confidence interval of a proportion\n",
    "\n",
    "# Given data\n",
    "success = 20   # Percentage / Success rate\n",
    "n = 85      # Sample size\n",
    "alpha = 0.10\n",
    "z_critical = norm.ppf(1 - alpha / 2)  # Z-critical value for two-tailed test\n",
    "\n",
    "#calculate sample proportion \n",
    "p = success/ n\n",
    "\n",
    "#Calculate the margin of error\n",
    "margin_of_error = z_critical * sqrt((p * (1 - p)) / n)\n",
    "\n",
    "#Calculate the confidence interval\n",
    "lower_bound = p - margin_of_error\n",
    "upper_bound = p + margin_of_error\n",
    "\n",
    "print(f\"Confidence Interval: ({lower_bound:.4f}, {upper_bound:.4f})\")"
   ]
  },
  {
   "cell_type": "markdown",
   "metadata": {},
   "source": [
    "So here the awnser is 4. [0.160, 0.311] since this is the closest to our calculation."
   ]
  },
  {
   "cell_type": "markdown",
   "metadata": {},
   "source": [
    "Question VI.2 (12)\n",
    "\n",
    "A new quality check is planned. The factory wants a 95% confidence interval with an expected\n",
    "width of 0.1. As a guess of the population proportion, the observed proportion from the first\n",
    "quality check is used (i.e. 20 out of 85 batches).\n",
    "\n",
    "What is the minimum number of batches which must be taken for the new check to achieve\n",
    "this accuracy?"
   ]
  },
  {
   "cell_type": "code",
   "execution_count": 6,
   "metadata": {},
   "outputs": [
    {
     "name": "stdout",
     "output_type": "stream",
     "text": [
      "Z-critical value: 1.959963984540054\n",
      "Minimum sample size required: 277\n"
     ]
    }
   ],
   "source": [
    "#Reuses some of the old data from the previous task\n",
    "\n",
    "#Recalculate the margin of error with new data\n",
    "margin_error = 0.05  # Desired margin of error\n",
    "z_critical = norm.ppf(1 - margin_error / 2)  # Z-critical value for 95% confidence level\n",
    "\n",
    "print(f\"Z-critical value: {z_critical}\")\n",
    "\n",
    "# Calculate the minimum sample size\n",
    "n = (z_critical**2 * p * (1 - p)) / (margin_error**2)\n",
    "n_min = ceil(n)  # Round up to the nearest whole number\n",
    "\n",
    "# Output results\n",
    "print(f\"Minimum sample size required: {n_min}\")"
   ]
  },
  {
   "cell_type": "markdown",
   "metadata": {},
   "source": [
    "So here the awnser is 4. n = 277"
   ]
  },
  {
   "cell_type": "markdown",
   "metadata": {},
   "source": [
    "Exercise VII\n",
    "\n",
    "At a Danish company, a study was designed to investigate whether the online training modules\n",
    "for learning the concepts of sustainability improve trainees knowledge. The trainees participated in a quiz before and after completing the activities of the online training module. The\n",
    "two quizzes are referred to as pre-test and post-test. Six trainees’ scores in the pre-test (denoted\n",
    "pre) and post-test (denoted post) are shown in the table below.\n",
    "\n",
    "Trainee 1 2 3 4 5 6\n",
    "\n",
    "pre 41 46 35 49 33 42\n",
    "\n",
    "post 42 47 43 55 28 49\n",
    "\n",
    "The data is loaded into python:\n",
    "x = np.array([41, 46, 35, 49, 33, 42])  # Pre test\n",
    "\n",
    "y = np.array([42, 47, 43, 55, 28, 49])  # #Post test\n",
    "\n",
    "\n",
    "Question VII.1 (13)\n",
    "\n",
    "Assuming the samples are from normal distributed populations and the improvement is measured by a difference in the mean of the populations, which of the following codes will result\n",
    "in the desired hypothesis test after reading in the data?\n"
   ]
  },
  {
   "cell_type": "code",
   "execution_count": 7,
   "metadata": {},
   "outputs": [
    {
     "name": "stdout",
     "output_type": "stream",
     "text": [
      "t-Statistic: 1.4877\n",
      "p-Value: 0.1970\n",
      "Fail to reject H0: No significant difference between pre-test and post-test scores.\n"
     ]
    }
   ],
   "source": [
    "# Pre-test and post-test scores\n",
    "x = np.array([41, 46, 35, 49, 33, 42])  # Pre-test\n",
    "y = np.array([42, 47, 43, 55, 28, 49])  # Post-test\n",
    "\n",
    "# Perform paired t-test\n",
    "t_stat, p_value = ttest_rel(y, x)\n",
    "\n",
    "# Output results\n",
    "print(f\"t-Statistic: {t_stat:.4f}\")\n",
    "print(f\"p-Value: {p_value:.4f}\")\n",
    "\n",
    "# Conclusion\n",
    "alpha = 0.05\n",
    "if p_value < alpha:\n",
    "    print(\"Reject H0: There is a significant difference between pre-test and post-test scores.\")\n",
    "else:\n",
    "    print(\"Fail to reject H0: No significant difference between pre-test and post-test scores.\")"
   ]
  },
  {
   "cell_type": "markdown",
   "metadata": {},
   "source": [
    "Exercise VIII\n",
    "\n",
    "It is assumed that the there are 2.5 forest fires on average on a hot summer day, and that the\n",
    "number of forest fires per day follows a Poisson distribution.\n",
    "\n",
    "Question VIII.1 (14)\n",
    "\n",
    "What is the probability that there are at least five forest fires on a hot summer day?"
   ]
  },
  {
   "cell_type": "code",
   "execution_count": 12,
   "metadata": {},
   "outputs": [
    {
     "name": "stdout",
     "output_type": "stream",
     "text": [
      "P(X = 5) = 0.0668\n",
      "Probability of at least 5 forest fires: 0.1088\n"
     ]
    }
   ],
   "source": [
    "λ = 2.5 #  (mean of Poisson distribution)\n",
    "k = 5\n",
    "poisson_prob = poisson.pmf(k, λ)\n",
    "\n",
    "p_at_least_5 = 1 - poisson.cdf(4, λ)\n",
    "\n",
    "print(f\"P(X = {k}) = {poisson_prob:.4f}\") # Probability of exactly 5 forest fires\n",
    "\n",
    "print(f\"Probability of at least 5 forest fires: {p_at_least_5:.4f}\") # Probability of at least 5 forest fires"
   ]
  },
  {
   "cell_type": "markdown",
   "metadata": {},
   "source": [
    "So here the awnser is 3 since we needed to find value for at least"
   ]
  },
  {
   "cell_type": "markdown",
   "metadata": {},
   "source": [
    "Question VIII.2 (15)\n",
    "\n",
    "Let the random variable X represent the number of fores fires in a period of seven consecutive\n",
    "hot summer days. Which distribution does X follow?"
   ]
  },
  {
   "cell_type": "markdown",
   "metadata": {},
   "source": [
    "Key Information:\n",
    "Given Data:\n",
    "\n",
    "The random variable 𝑋 represents the number of forest fires over seven consecutive hot summer days.\n",
    "For a single day, the number of forest fires follows a Poisson distribution with a mean \n",
    "𝜆 = 2.5 fires/day.\n",
    "Properties of the Poisson Distribution:\n",
    "\n",
    "If the number of events per unit time follows a Poisson distribution, then the number of events over multiple independent time periods also follows a Poisson distribution.\n",
    "The mean of the new distribution is scaled by the number of time periods.\n",
    "Mean for 7 Days:\n",
    "\n",
    "Over 7 days, the average number of fires is:\n",
    "\n",
    "λ-7-days = 7 ⋅ 2.5 =17.5"
   ]
  },
  {
   "cell_type": "markdown",
   "metadata": {},
   "source": [
    "So the awnser is A 1 Poisson distribution with mean 17.5"
   ]
  },
  {
   "cell_type": "markdown",
   "metadata": {},
   "source": [
    "Question VIII.3 (16)\n",
    "\n",
    "It is estimated that 78% of forest fires could have been avoided if simple precautions had been\n",
    "met. If the fire department one day reports five fores fires, what is the probability that all of\n",
    "these fores fires could have been avoided if the simple precautions had been met?"
   ]
  },
  {
   "cell_type": "code",
   "execution_count": 13,
   "metadata": {},
   "outputs": [
    {
     "name": "stdout",
     "output_type": "stream",
     "text": [
      "Probability that all 5 fires could have been avoided: 0.2887\n"
     ]
    }
   ],
   "source": [
    "# Given data\n",
    "n = 5  # Total number of fires\n",
    "p = 0.78  # Probability of avoiding a fire\n",
    "\n",
    "# Probability that all 5 fires could have been avoided\n",
    "prob_all_avoided = p**n\n",
    "\n",
    "# Output the result\n",
    "print(f\"Probability that all 5 fires could have been avoided: {prob_all_avoided:.4f}\")"
   ]
  },
  {
   "cell_type": "markdown",
   "metadata": {},
   "source": [
    "Here the awnser 4. 0.289"
   ]
  }
 ],
 "metadata": {
  "kernelspec": {
   "display_name": "Python 3",
   "language": "python",
   "name": "python3"
  },
  "language_info": {
   "codemirror_mode": {
    "name": "ipython",
    "version": 3
   },
   "file_extension": ".py",
   "mimetype": "text/x-python",
   "name": "python",
   "nbconvert_exporter": "python",
   "pygments_lexer": "ipython3",
   "version": "3.11.9"
  }
 },
 "nbformat": 4,
 "nbformat_minor": 2
}
