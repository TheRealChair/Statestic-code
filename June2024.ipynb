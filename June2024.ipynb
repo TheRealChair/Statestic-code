{
 "cells": [
  {
   "cell_type": "code",
   "execution_count": 14,
   "metadata": {},
   "outputs": [],
   "source": [
    "import math\n",
    "import numpy as np\n",
    "import matplotlib.pyplot as plt\n",
    "import pandas as pd\n",
    "import scipy.stats as stats\n",
    "import statsmodels.formula.api as smf\n",
    "import statsmodels.api as sm\n",
    "\n",
    "from math import exp\n",
    "from scipy.stats import t\n",
    "from scipy.stats import f_oneway\n",
    "from scipy.stats import chi2_contingency\n",
    "from scipy.stats import ttest_rel\n",
    "from scipy.stats import binom\n",
    "from scipy.stats import poisson\n",
    "from scipy.stats import ttest_1samp\n",
    "from scipy.stats import mode\n",
    "from scipy.stats import ttest_ind\n",
    "from scipy.stats import norm\n"
   ]
  },
  {
   "cell_type": "markdown",
   "metadata": {},
   "source": [
    "## Exercise I\n",
    "Two students are counting the number of cars passing by on different stretches of road. They\n",
    "assume that the number of cars passing by in specific time intervals follow Poisson distributions.\n",
    "On the first road (road 1) they assume that the expected number of cars passing by is λ1 =\n",
    "10/hour, while on the second road (road 2) they assume that the expected number of cars\n",
    "passing by is λ2 = 15/hour.\n",
    "\n",
    "Now they define two random variables:\n",
    "\n",
    "• X1: number of cars passing by on road 1 in 15 minutes\n",
    "\n",
    "\n",
    "• X2: number of cars passing by on road 2 in 10 minutes.\n",
    "\n",
    "You can assume that X1 and X2 are independent.\n"
   ]
  },
  {
   "cell_type": "markdown",
   "metadata": {},
   "source": [
    "#### Question I.1 (1)\n",
    "What is the probability P(X1 = 10)?"
   ]
  },
  {
   "cell_type": "code",
   "execution_count": 7,
   "metadata": {},
   "outputs": [
    {
     "name": "stdout",
     "output_type": "stream",
     "text": [
      "P(X1 = 10) = 0.00021572518449585165\n"
     ]
    }
   ],
   "source": [
    "λ1_15min = 10 * (15 / 60)  # rate for 15 minutes\n",
    "k1 = 10  # number of cars we want to find the probability for\n",
    "poisson_prob_X1 = poisson.pmf(k1, λ1_15min)\n",
    "\n",
    "print(f\"P(X1 = {k1}) = {poisson_prob_X1}\")"
   ]
  },
  {
   "cell_type": "markdown",
   "metadata": {},
   "source": [
    "Here we can see that the awnser is 3."
   ]
  },
  {
   "cell_type": "markdown",
   "metadata": {},
   "source": [
    "#### Question I.2 (2)\n",
    "Which of the following statements about the expected values of the two random variables is\n",
    "correct?\n"
   ]
  },
  {
   "cell_type": "code",
   "execution_count": 8,
   "metadata": {},
   "outputs": [
    {
     "name": "stdout",
     "output_type": "stream",
     "text": [
      "E[X1] / E[X2] = 1.0\n"
     ]
    }
   ],
   "source": [
    "E_X1 = λ1_15min # derived from the formula for the Poisson distribution above\n",
    "E_X2 = 15 * (10 / 60) # rate for 10 cars per hour\n",
    "\n",
    "ratio = E_X1 / E_X2 # ratio of the expected values\n",
    "print(f\"E[X1] / E[X2] = {ratio}\")"
   ]
  },
  {
   "cell_type": "markdown",
   "metadata": {},
   "source": [
    "Here we can see that the awnser is 5."
   ]
  },
  {
   "cell_type": "markdown",
   "metadata": {},
   "source": [
    "#### Question I.3 (3)\n",
    "What is the probability that the time between two cars passing by is greater than 2 minutes\n",
    "on road 2?"
   ]
  },
  {
   "cell_type": "code",
   "execution_count": 11,
   "metadata": {},
   "outputs": [
    {
     "name": "stdout",
     "output_type": "stream",
     "text": [
      "P(T > 2) = 0.6065\n"
     ]
    }
   ],
   "source": [
    "λ2_per_minute = 15 / 60  # rate for road 2 in cars per minute\n",
    "\"\"\"\n",
    "This code calculates the probability that the time until the next car arrives on road 2 is greater than 2 minutes.\n",
    "It assumes that the arrival of cars follows a Poisson process with a rate of 15 cars per hour (or 15/60 cars per minute).\n",
    "Variables:\n",
    "- λ2_per_minute: The rate of car arrivals on road 2 in cars per minute.\n",
    "- t: The time period in minutes for which we are calculating the probability.\n",
    "The probability is calculated using the exponential distribution's survival function:\n",
    "P(T > t) = exp(-λ * t)\n",
    "The result is printed in the format: P(T > 2) = <calculated_probability>\n",
    "\"\"\"\n",
    "t = 2  # time in minutes\n",
    "\n",
    "prob_greater_than_2_min = exp(-λ2_per_minute * t)\n",
    "print(f\"P(T > 2) = {prob_greater_than_2_min:.4f}\")"
   ]
  },
  {
   "cell_type": "markdown",
   "metadata": {},
   "source": [
    "Here we need to round up a little bit, but its still clear that the awser is 3."
   ]
  },
  {
   "cell_type": "markdown",
   "metadata": {},
   "source": [
    "## Exercise II\n",
    "A farm made a study in which 225 chickens were randomly divided into 3 treatment groups\n",
    "of 75 animals each. Each group were fed with fodder from different feed producers during a\n",
    "period. For each chicken the weight change over the period of time was measured and the\n",
    "final data set consists of 225 observations of weight changes. The objective of the study is to\n",
    "determine if there is statistical evidence for difference in mean weight change for at least one\n",
    "of the groups. It may be assumed that the variance is the same in all treatment groups.\n",
    "\n",
    "#### Question II.1 (4)\n",
    "What kind of statistical analysis is most suitable for this?\n"
   ]
  },
  {
   "cell_type": "markdown",
   "metadata": {},
   "source": [
    "*  Multiple linear regression analysis\n",
    "*  Test for independence in a r × c frequency table (Contingency table)\n",
    "*  Paired t-tests\n",
    "*  One-way analysis of variance\n",
    "*  t-tests"
   ]
  },
  {
   "cell_type": "markdown",
   "metadata": {},
   "source": [
    "Here the correct awnser is 4.\n",
    "\n",
    "This is why:\n",
    "Explanation\n",
    "\n",
    "Objective\n",
    "The study aims to compare the **mean weight changes** between three groups (treatment groups with different feed producers).\n",
    "\n",
    "Number of Groups\n",
    "Since there are **three groups**, comparing the means using pairwise t-tests (option 5) would not be appropriate. Conducting multiple t-tests increases the risk of a **Type I error** (false positive).\n",
    "\n",
    "Assumptions for ANOVA\n",
    "1. **Independence**:  \n",
    "   The observations (weight changes) for the chickens in each group are independent.\n",
    "\n",
    "2. **Equal Variance**:  \n",
    "   It is stated in the problem that the variance is the same in all treatment groups.\n",
    "\n",
    "3. **Normality**:  \n",
    "   The weight changes within each group should be approximately normally distributed.  \n",
    "   *(Note: ANOVA is robust to mild deviations from normality for large sample sizes, like 75 per group.)*\n",
    "\n",
    "Why ANOVA?\n",
    "- **ANOVA** is specifically designed to test for differences in the means of three or more groups.\n",
    "- It determines whether at least one group mean is significantly different from the others."
   ]
  },
  {
   "cell_type": "markdown",
   "metadata": {},
   "source": [
    "## Exercise III\n",
    "The engineers at an international airport have conducted a survey, in which they have timed 40\n",
    "randomly selected security checks. The average duration of the security checks included in the\n",
    "survey was 34.66 seconds, and the sample standard deviation was 10.12 seconds, it is assumed\n",
    "that the times are normally distributed.\n",
    "\n",
    "#### Question III.1 (5)\n",
    "Based on the survey, what is the 99% confidence interval for the mean duration of the security\n",
    "checks?"
   ]
  },
  {
   "cell_type": "code",
   "execution_count": 12,
   "metadata": {},
   "outputs": [
    {
     "name": "stdout",
     "output_type": "stream",
     "text": [
      "99% confidence interval for the mean duration: (30.538383343712, 38.781616656287994)\n"
     ]
    }
   ],
   "source": [
    "# Given data\n",
    "sample_mean = 34.66\n",
    "sample_std_dev = 10.12\n",
    "sample_size = 40\n",
    "confidence_level = 0.99\n",
    "\n",
    "# Z-score for 99% confidence level\n",
    "z_score = norm.ppf(1 - (1 - confidence_level) / 2)\n",
    "\n",
    "# Standard error of the mean\n",
    "std_error = sample_std_dev / (sample_size ** 0.5)\n",
    "\n",
    "# Confidence interval\n",
    "margin_of_error = z_score * std_error\n",
    "confidence_interval = (sample_mean - margin_of_error, sample_mean + margin_of_error)\n",
    "\n",
    "print(f\"99% confidence interval for the mean duration: {confidence_interval}\")"
   ]
  },
  {
   "cell_type": "markdown",
   "metadata": {},
   "source": [
    "Here we can see that the awnser is 3."
   ]
  },
  {
   "cell_type": "markdown",
   "metadata": {},
   "source": [
    "#### Question III.2 (6)\n",
    "What is the p-value for the usual test of the null hypothesis H0 : µ = 30 against a two-sided\n",
    "alternative hypothesis?\n"
   ]
  },
  {
   "cell_type": "code",
   "execution_count": 16,
   "metadata": {},
   "outputs": [
    {
     "name": "stdout",
     "output_type": "stream",
     "text": [
      "t-statistic: 2.9122952364396517\n",
      "p-value: 0.005907860670444576\n",
      "p-value: 0.59%\n"
     ]
    }
   ],
   "source": [
    "# Given data\n",
    "µ0 = 30 # null hypothesis mean\n",
    "\n",
    "# Calculate the t-statistic\n",
    "t_statistic = (sample_mean - µ0) / std_error\n",
    "\n",
    "# Degrees of freedom\n",
    "df = sample_size - 1\n",
    "\n",
    "# Calculate the p-value for a two-sided test\n",
    "p_value = 2 * (1 - t.cdf(abs(t_statistic), df))\n",
    "\n",
    "print(f\"t-statistic: {t_statistic}\")\n",
    "print(f\"p-value: {p_value}\")\n",
    "\n",
    "p_value_percent = p_value * 100 # convert to percentage\n",
    "print(f\"p-value: {p_value_percent:.2f}%\")"
   ]
  },
  {
   "cell_type": "markdown",
   "metadata": {},
   "source": [
    "With the conversion to percentage we can see that the awnser is 2.  0.59 %"
   ]
  },
  {
   "cell_type": "markdown",
   "metadata": {},
   "source": [
    "## Exercise IV\n",
    "A company wants to estimate the cost of producing solar panels. Therefore, the engineers have\n",
    "designed an experiment to evaluate the costs of producing batches of different sizes and ensure\n",
    "that the observations are completely independent. The results are given in the table below.\n",
    "\n",
    "| **Batch Size (units)** | 50   | 100  | 150  | 200  | 250  | 300  | 350  | 400  | 450  | 500  |\n",
    "|-------------------------|-------|-------|-------|-------|-------|-------|-------|-------|-------|-------|\n",
    "| **Costs (M DKK)**      | 2.33  | 4.21  | 6.01  | 7.51  | 8.46  | 8.93  | 9.45  | 10.70 | 10.55 | 10.74 |\n",
    "\n",
    "The data can be read in python using the below code:\n",
    "// Define the data\n",
    "\n",
    "Batch = np.arange(1, 11) * 50  # Batch sizes\n",
    "\n",
    "Costs = np.array([2.33, 4.21, 6.01, 7.51, 8.46, 8.93, 9.45, 10.70, 10.55, 10.74])  # Costs in M DKK\n",
    "\n",
    "\n",
    "The engineers initially believe that the data can be described by a linear model of the form:\n",
    "\n",
    "$$\n",
    "Y_i = \\beta_0 + \\beta_1 x_i + \\varepsilon_i, \\quad i \\in \\{1, \\ldots, 10\\}\n",
    "$$\n",
    "\n",
    "The errors, $\\varepsilon_i$, are independent and identically distributed (i.i.d.) with a $\\mathcal{N}(0, \\sigma^2)$ distribution.\n",
    "\n",
    "In the model:\n",
    "- The **response variable** is the **cost** (in M DKK).\n",
    "- The **explanatory variable** is the **batch size** (in units).\n",
    "\n",
    "The engineers fit a **linear regression model** using the **least squares method**.\n",
    "\n",
    "#### Question IV.1 (7)\n",
    "What proportion of the variation in the costs is explained by the regression model?\n",
    "\n"
   ]
  },
  {
   "cell_type": "code",
   "execution_count": 20,
   "metadata": {},
   "outputs": [
    {
     "name": "stdout",
     "output_type": "stream",
     "text": [
      "R-squared: 0.9059547718379204\n",
      "p-value: 90.60%\n"
     ]
    }
   ],
   "source": [
    "Batch = np.arange(1, 11) * 50  # Batch sizes\n",
    "Costs = np.array([2.33, 4.21, 6.01, 7.51, 8.46, 8.93, 9.45, 10.70, 10.55, 10.74])  # Costs in M DKK\n",
    "\n",
    "# Fit the linear regression model\n",
    "model = sm.OLS(Costs, sm.add_constant(Batch)).fit() # Add a constant term to the predictor variable (Batch) to fit the intercept of the linear regression model\n",
    "\n",
    "# Calculate R-squared\n",
    "r_squared = model.rsquared\n",
    "print(f\"R-squared: {r_squared}\")\n",
    "r_squared_percent = r_squared * 100 # convert to percentage\n",
    "print(f\"p-value: {r_squared_percent:.2f}%\")"
   ]
  },
  {
   "cell_type": "markdown",
   "metadata": {},
   "source": [
    "So the awnser here is 2. 90.6%"
   ]
  },
  {
   "cell_type": "markdown",
   "metadata": {},
   "source": [
    "#### Question IV.2 (8)\n",
    "What is the 99% confidence interval for the slope, β1?"
   ]
  },
  {
   "cell_type": "code",
   "execution_count": 24,
   "metadata": {},
   "outputs": [
    {
     "name": "stdout",
     "output_type": "stream",
     "text": [
      "99% confidence interval for the slope (β1): [0.0112, 0.0251]\n"
     ]
    }
   ],
   "source": [
    "# Use the data from previous example\n",
    "alpha = 0.01  # significance level\n",
    "\n",
    "# Calculate the 99% confidence interval for the slope (β1)\n",
    "slope_conf_int = model.conf_int(alpha)[1]  # Get the confidence interval for the slope\n",
    "\n",
    "print(f\"99% confidence interval for the slope (β1): [{slope_conf_int[0]:.4f}, {slope_conf_int[1]:.4f}]\") \n"
   ]
  },
  {
   "cell_type": "markdown",
   "metadata": {},
   "source": [
    "So here the awnser is 1."
   ]
  },
  {
   "cell_type": "markdown",
   "metadata": {},
   "source": [
    "To validate the model, the engineers make two diagnostic plots: A normal Q-Q plot and a plot\n",
    "\n",
    "of the residuals against the fitted values. The two plots are seen below:\n",
    "\n",
    "#### Question IV.3 (9)\n",
    "Which of the following statements regarding the validity of the model is most correct?"
   ]
  },
  {
   "cell_type": "markdown",
   "metadata": {},
   "source": [
    "Here the awnser is 4. The residuals vs. fitted values plot indicates that the residuals are not independent of\n",
    "the fitted values\n"
   ]
  },
  {
   "cell_type": "markdown",
   "metadata": {},
   "source": [
    "## Exercise V\n",
    "The number of persons living in Danish dorms in 2023 is provided by Statistics Denmark. Here\n",
    "we focus only on a few age-categories:\n",
    "\n",
    "| Age Group | Males  | Females | Total  |\n",
    "|-----------|--------|---------|--------|\n",
    "| 18-24     | 14048  | 14128   | 28176  |\n",
    "| 25-29     | 8215   | 6028    | 14243  |\n",
    "| 30-39     | 2735   | 1397    | 4132   |\n",
    "| **Total** | 24998  | 21553   | 46551  |\n",
    "\n",
    "#### Question V.1 (10)\n",
    "What proportion of the residents of Danish dormitories are males (among the 18-39 year olds)?\n"
   ]
  },
  {
   "cell_type": "code",
   "execution_count": 25,
   "metadata": {},
   "outputs": [
    {
     "name": "stdout",
     "output_type": "stream",
     "text": [
      "Proportion of males: 0.5370\n"
     ]
    }
   ],
   "source": [
    "# Given data\n",
    "total_males = 14048 + 8215 + 2735\n",
    "total_residents = 28176 + 14243 + 4132\n",
    "\n",
    "# Calculate the proportion of males\n",
    "proportion_males = total_males / total_residents\n",
    "print(f\"Proportion of males: {proportion_males:.4f}\")"
   ]
  },
  {
   "cell_type": "markdown",
   "metadata": {},
   "source": [
    "Here we can see that the awnser is 4."
   ]
  },
  {
   "cell_type": "markdown",
   "metadata": {},
   "source": [
    "#### Question V.2 (11)\n",
    "We would like to know whether the proportions of males in different age-groups is significantly\n",
    "different (using a 5% significance level). Which of the following statements is true?\n"
   ]
  },
  {
   "cell_type": "markdown",
   "metadata": {},
   "source": [
    "1. We should use a **paired t-test** with $\\alpha=0.05$ to test if there is a significant difference between age groups. The result is that we do observe a significant difference.\n",
    "\n",
    "2. We should use an **unpaired t-test** with $\\alpha=0.025$ to test if there is a significant difference between age groups. The result is that we do observe a significant difference.\n",
    "\n",
    "3. We should use an **unpaired t-test** with $\\alpha=0.05$ to test if there is a significant difference between age groups. The result is that we do **NOT** observe a significant difference.\n",
    "\n",
    "4. We should use a $\\chi^2$-test with **6 degrees of freedom** to test if there is a significant difference between age groups. The result is that we do observe a significant difference.\n",
    "\n",
    "5. We should use a $\\chi^2$-test with **2 degrees of freedom** to test if there is a significant difference between age groups. The result is that we do observe a significant difference.\n",
    "\n",
    "Here the awnser is 5. We should use a $\\chi^2$-test with **2 degrees of freedom** to test if there is a significant difference between age groups. The result is that we do observe a significant difference."
   ]
  },
  {
   "cell_type": "code",
   "execution_count": 27,
   "metadata": {},
   "outputs": [
    {
     "name": "stdout",
     "output_type": "stream",
     "text": [
      "Chi-squared statistic: 517.1881307484355\n",
      "p-value: 4.9433840849567903e-113\n",
      "Degrees of freedom: 2\n",
      "Significant difference: True\n"
     ]
    }
   ],
   "source": [
    "# Perform the chi-squared test\n",
    "chi2_stat, p_val, dof, expected = chi2_contingency(observed)\n",
    "\n",
    "print(f\"Chi-squared statistic: {chi2_stat}\")\n",
    "print(f\"p-value: {p_val}\")\n",
    "print(f\"Degrees of freedom: {dof}\")\n",
    "\n",
    "# Determine if the result is significant at the 5% significance level\n",
    "significant = p_val < significance_level\n",
    "print(f\"Significant difference: {significant}\")"
   ]
  },
  {
   "cell_type": "markdown",
   "metadata": {},
   "source": [
    "#### Question V.3 (12)\n",
    "Under the hypothesis that the distribution between for male and females is the same for all\n",
    "age groups, what is the expected number of males in the age group 18-24 living in dorms (to\n",
    "be compared with the table above and used for calculating the appropriate test-statistic)?"
   ]
  },
  {
   "cell_type": "code",
   "execution_count": 28,
   "metadata": {},
   "outputs": [
    {
     "name": "stdout",
     "output_type": "stream",
     "text": [
      "Expected number of males in the age group 18-24: 15130.58\n"
     ]
    }
   ],
   "source": [
    "# Total number of residents in the age group 18-24\n",
    "total_residents_18_24 = 28176\n",
    "\n",
    "# Calculate the expected number of males in the age group 18-24\n",
    "expected_males_18_24 = (total_males / total_residents) * total_residents_18_24\n",
    "print(f\"Expected number of males in the age group 18-24: {expected_males_18_24:.2f}\")"
   ]
  },
  {
   "cell_type": "markdown",
   "metadata": {},
   "source": [
    "Here the awnser is 2."
   ]
  },
  {
   "cell_type": "markdown",
   "metadata": {},
   "source": [
    "#### Question V.4 (13)\n",
    "We now consider only the 18-24 year-olds. Which of the following statements is true (if relevant,\n",
    "in the answer options, significance level α = 0.05 is used)?\n",
    "\n",
    "1. Among the 18-24 year-olds, the proportion of males is **NOT** significantly different from 0.5, as the estimated 95% confidence interval for the proportion of males in this age group is \\([0.493, 0.504]\\).\n",
    "\n",
    "2. Among the 18-24 year-olds, the proportion of males is **exactly** 0.5.\n",
    "\n",
    "3. Among the 18-24 year-olds, the proportion of males is significantly different from 0.5, as the estimated 95% confidence interval for the proportion of males in this age group is \\([0.501, 0.533]\\).\n",
    "\n",
    "4. Among the 18-24 year-olds, the proportion of males is **NOT** significantly different from 0.5, as the estimated 95% confidence interval for the proportion of males in this age group is \\([0.501, 0.533]\\).\n",
    "\n",
    "5. Among the 18-24 year-olds, the proportion of males is significantly different from 0.5, as the estimated 95% confidence interval for the proportion of males in this age group is \\([0.532, 0.542]\\).\n",
    "\n"
   ]
  },
  {
   "cell_type": "markdown",
   "metadata": {},
   "source": [
    "The awnser to this one is 1. Among the 18-24 year-olds, the proportion of males is **NOT** significantly different from 0.5, as the estimated 95% confidence interval for the proportion of males in this age group is \\([0.493, 0.504]\\).\n",
    "\n",
    "This can also be solved with the bellow code:"
   ]
  },
  {
   "cell_type": "code",
   "execution_count": 32,
   "metadata": {},
   "outputs": [
    {
     "name": "stdout",
     "output_type": "stream",
     "text": [
      "95% confidence interval for the proportion of males in the age group 18-24: (0.4927, 0.5044)\n"
     ]
    }
   ],
   "source": [
    "# Given data\n",
    "males_18_24 = 14048\n",
    "total_18_24 = 28176\n",
    "proportion_males_18_24 = males_18_24 / total_18_24\n",
    "\n",
    "# Standard error for the proportion\n",
    "std_error_18_24 = (proportion_males_18_24 * (1 - proportion_males_18_24) / total_18_24) ** 0.5\n",
    "\n",
    "# Z-score for 95% confidence level\n",
    "z_score_95 = norm.ppf(1 - 0.05 / 2)\n",
    "\n",
    "# Confidence interval\n",
    "margin_of_error_18_24 = z_score_95 * std_error_18_24\n",
    "confidence_interval_18_24 = (proportion_males_18_24 - margin_of_error_18_24, proportion_males_18_24 + margin_of_error_18_24)\n",
    "\n",
    "print(f\"95% confidence interval for the proportion of males in the age group 18-24: ({confidence_interval_18_24[0]:.4f}, {confidence_interval_18_24[1]:.4f})\")"
   ]
  },
  {
   "cell_type": "markdown",
   "metadata": {},
   "source": [
    "#### Question V.5 (14)\n",
    "Assuming independence between individuals. What is the probability, that 100 or more females\n",
    "live in a dorm with 190 people, if the probability of an individual being a female is assumed to\n",
    "be 0.45?"
   ]
  },
  {
   "cell_type": "code",
   "execution_count": 33,
   "metadata": {},
   "outputs": [
    {
     "name": "stdout",
     "output_type": "stream",
     "text": [
      "Probability that 100 or more females live in a dorm with 190 people: 0.0208\n"
     ]
    }
   ],
   "source": [
    "# Given data\n",
    "n = 190  # total number of people in the dorm\n",
    "p_female = 0.45  # probability of an individual being a female\n",
    "k = 100  # number of females\n",
    "\n",
    "# Calculate the probability using the binomial distribution\n",
    "prob_100_or_more_females = binom.sf(k - 1, n, p_female)  # sf (survival function) is 1 - cdf\n",
    "\n",
    "print(f\"Probability that 100 or more females live in a dorm with 190 people: {prob_100_or_more_females:.4f}\")"
   ]
  },
  {
   "cell_type": "markdown",
   "metadata": {},
   "source": [
    "we need to round up a litte but, and here the anwser is 1."
   ]
  },
  {
   "cell_type": "markdown",
   "metadata": {},
   "source": [
    "## Exercise VI\n",
    "A simple predator-prey model is the **Lotka-Volterra model**:\n",
    "\n",
    "\\[\n",
    "\\frac{dx}{dt} = \\alpha x - \\beta xy\n",
    "\\]\n",
    "\\[\n",
    "\\frac{dy}{dt} = \\delta xy - \\gamma y\n",
    "\\]\n",
    "\n",
    "where:\n",
    "- \\( x \\) is the size of the prey population.\n",
    "- \\( y \\) is the size of the predator population.\n",
    "\n",
    "The equation allows for a **constant of motion** (i.e., the quantity will stay constant through time for given initial conditions), given by:\n",
    "\n",
    "\\[\n",
    "K = y^\\alpha e^{-\\beta y} x^\\gamma e^{-\\delta x}\n",
    "\\]\n",
    "\n",
    "Assume that:\n",
    "- \\( \\alpha = \\frac{2}{3} \\),\n",
    "- \\( \\beta = \\frac{4}{3} \\),\n",
    "- \\( \\gamma = \\delta = 1 \\),\n",
    "\n",
    "and that the predator and prey population sizes have been observed at \\( y = \\frac{1}{2} \\) and \\( x = 1 \\), respectively.\n",
    "\n",
    "The uncertainties of the observations are assumed to be:\n",
    "\\[\n",
    "\\sigma^2_y = \\frac{1}{162}, \\quad \\sigma^2_x = \\frac{1}{8^2}\n",
    "\\]\n",
    "\n",
    "Furthermore, the observations are assumed to be **independent**.\n"
   ]
  }
 ],
 "metadata": {
  "kernelspec": {
   "display_name": "Python 3",
   "language": "python",
   "name": "python3"
  },
  "language_info": {
   "codemirror_mode": {
    "name": "ipython",
    "version": 3
   },
   "file_extension": ".py",
   "mimetype": "text/x-python",
   "name": "python",
   "nbconvert_exporter": "python",
   "pygments_lexer": "ipython3",
   "version": "3.11.9"
  }
 },
 "nbformat": 4,
 "nbformat_minor": 2
}
