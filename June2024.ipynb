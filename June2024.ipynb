{
 "cells": [
  {
   "cell_type": "code",
   "execution_count": 6,
   "metadata": {},
   "outputs": [],
   "source": [
    "import math\n",
    "import numpy as np\n",
    "import matplotlib.pyplot as plt\n",
    "import pandas as pd\n",
    "import scipy.stats as stats\n",
    "import statsmodels.formula.api as smf\n",
    "import statsmodels.api as sm\n",
    "\n",
    "from math import exp\n",
    "from scipy.stats import t\n",
    "from scipy.stats import f_oneway\n",
    "from scipy.stats import chi2_contingency\n",
    "from scipy.stats import ttest_rel\n",
    "from scipy.stats import binom\n",
    "from scipy.stats import poisson\n",
    "from scipy.stats import ttest_1samp\n",
    "from scipy.stats import mode\n",
    "from scipy.stats import ttest_ind\n",
    "from scipy.stats import norm\n"
   ]
  },
  {
   "cell_type": "markdown",
   "metadata": {},
   "source": [
    "## Exercise I\n",
    "Two students are counting the number of cars passing by on different stretches of road. They\n",
    "assume that the number of cars passing by in specific time intervals follow Poisson distributions.\n",
    "On the first road (road 1) they assume that the expected number of cars passing by is λ1 =\n",
    "10/hour, while on the second road (road 2) they assume that the expected number of cars\n",
    "passing by is λ2 = 15/hour.\n",
    "\n",
    "Now they define two random variables:\n",
    "\n",
    "• X1: number of cars passing by on road 1 in 15 minutes\n",
    "\n",
    "\n",
    "• X2: number of cars passing by on road 2 in 10 minutes.\n",
    "\n",
    "You can assume that X1 and X2 are independent.\n"
   ]
  },
  {
   "cell_type": "markdown",
   "metadata": {},
   "source": [
    "#### Question I.1 (1)\n",
    "What is the probability P(X1 = 10)?"
   ]
  },
  {
   "cell_type": "code",
   "execution_count": 7,
   "metadata": {},
   "outputs": [
    {
     "name": "stdout",
     "output_type": "stream",
     "text": [
      "P(X1 = 10) = 0.00021572518449585165\n"
     ]
    }
   ],
   "source": [
    "λ1_15min = 10 * (15 / 60)  # rate for 15 minutes\n",
    "k1 = 10  # number of cars we want to find the probability for\n",
    "poisson_prob_X1 = poisson.pmf(k1, λ1_15min)\n",
    "\n",
    "print(f\"P(X1 = {k1}) = {poisson_prob_X1}\")"
   ]
  },
  {
   "cell_type": "markdown",
   "metadata": {},
   "source": [
    "Here we can see that the awnser is 3."
   ]
  },
  {
   "cell_type": "markdown",
   "metadata": {},
   "source": [
    "#### Question I.2 (2)\n",
    "Which of the following statements about the expected values of the two random variables is\n",
    "correct?\n"
   ]
  },
  {
   "cell_type": "code",
   "execution_count": 8,
   "metadata": {},
   "outputs": [
    {
     "name": "stdout",
     "output_type": "stream",
     "text": [
      "E[X1] / E[X2] = 1.0\n"
     ]
    }
   ],
   "source": [
    "E_X1 = λ1_15min # derived from the formula for the Poisson distribution above\n",
    "E_X2 = 15 * (10 / 60) # rate for 10 cars per hour\n",
    "\n",
    "ratio = E_X1 / E_X2 # ratio of the expected values\n",
    "print(f\"E[X1] / E[X2] = {ratio}\")"
   ]
  },
  {
   "cell_type": "markdown",
   "metadata": {},
   "source": [
    "Here we can see that the awnser is 5."
   ]
  },
  {
   "cell_type": "markdown",
   "metadata": {},
   "source": [
    "#### Question I.3 (3)\n",
    "What is the probability that the time between two cars passing by is greater than 2 minutes\n",
    "on road 2?"
   ]
  },
  {
   "cell_type": "code",
   "execution_count": 11,
   "metadata": {},
   "outputs": [
    {
     "name": "stdout",
     "output_type": "stream",
     "text": [
      "P(T > 2) = 0.6065\n"
     ]
    }
   ],
   "source": [
    "λ2_per_minute = 15 / 60  # rate for road 2 in cars per minute\n",
    "\"\"\"\n",
    "This code calculates the probability that the time until the next car arrives on road 2 is greater than 2 minutes.\n",
    "It assumes that the arrival of cars follows a Poisson process with a rate of 15 cars per hour (or 15/60 cars per minute).\n",
    "Variables:\n",
    "- λ2_per_minute: The rate of car arrivals on road 2 in cars per minute.\n",
    "- t: The time period in minutes for which we are calculating the probability.\n",
    "The probability is calculated using the exponential distribution's survival function:\n",
    "P(T > t) = exp(-λ * t)\n",
    "The result is printed in the format: P(T > 2) = <calculated_probability>\n",
    "\"\"\"\n",
    "t = 2  # time in minutes\n",
    "\n",
    "prob_greater_than_2_min = exp(-λ2_per_minute * t)\n",
    "print(f\"P(T > 2) = {prob_greater_than_2_min:.4f}\")"
   ]
  },
  {
   "cell_type": "markdown",
   "metadata": {},
   "source": [
    "Here we need to round up a little bit, but its still clear that the awser is 3."
   ]
  },
  {
   "cell_type": "markdown",
   "metadata": {},
   "source": [
    "## Exercise II\n",
    "A farm made a study in which 225 chickens were randomly divided into 3 treatment groups\n",
    "of 75 animals each. Each group were fed with fodder from different feed producers during a\n",
    "period. For each chicken the weight change over the period of time was measured and the\n",
    "final data set consists of 225 observations of weight changes. The objective of the study is to\n",
    "determine if there is statistical evidence for difference in mean weight change for at least one\n",
    "of the groups. It may be assumed that the variance is the same in all treatment groups.\n",
    "\n",
    "#### Question II.1 (4)\n",
    "What kind of statistical analysis is most suitable for this?\n"
   ]
  },
  {
   "cell_type": "markdown",
   "metadata": {},
   "source": [
    "*  Multiple linear regression analysis\n",
    "*  Test for independence in a r × c frequency table (Contingency table)\n",
    "*  Paired t-tests\n",
    "*  One-way analysis of variance\n",
    "*  t-tests"
   ]
  },
  {
   "cell_type": "markdown",
   "metadata": {},
   "source": [
    "Here the correct awnser is 4.\n",
    "\n",
    "This is why:\n",
    "Explanation\n",
    "\n",
    "Objective\n",
    "The study aims to compare the **mean weight changes** between three groups (treatment groups with different feed producers).\n",
    "\n",
    "Number of Groups\n",
    "Since there are **three groups**, comparing the means using pairwise t-tests (option 5) would not be appropriate. Conducting multiple t-tests increases the risk of a **Type I error** (false positive).\n",
    "\n",
    "Assumptions for ANOVA\n",
    "1. **Independence**:  \n",
    "   The observations (weight changes) for the chickens in each group are independent.\n",
    "\n",
    "2. **Equal Variance**:  \n",
    "   It is stated in the problem that the variance is the same in all treatment groups.\n",
    "\n",
    "3. **Normality**:  \n",
    "   The weight changes within each group should be approximately normally distributed.  \n",
    "   *(Note: ANOVA is robust to mild deviations from normality for large sample sizes, like 75 per group.)*\n",
    "\n",
    "Why ANOVA?\n",
    "- **ANOVA** is specifically designed to test for differences in the means of three or more groups.\n",
    "- It determines whether at least one group mean is significantly different from the others."
   ]
  },
  {
   "cell_type": "markdown",
   "metadata": {},
   "source": [
    "## Exercise III\n",
    "The engineers at an international airport have conducted a survey, in which they have timed 40\n",
    "randomly selected security checks. The average duration of the security checks included in the\n",
    "survey was 34.66 seconds, and the sample standard deviation was 10.12 seconds, it is assumed\n",
    "that the times are normally distributed.\n",
    "\n",
    "#### Question III.1 (5)\n",
    "Based on the survey, what is the 99% confidence interval for the mean duration of the security\n",
    "checks?"
   ]
  },
  {
   "cell_type": "code",
   "execution_count": 12,
   "metadata": {},
   "outputs": [
    {
     "name": "stdout",
     "output_type": "stream",
     "text": [
      "99% confidence interval for the mean duration: (30.538383343712, 38.781616656287994)\n"
     ]
    }
   ],
   "source": [
    "# Given data\n",
    "sample_mean = 34.66\n",
    "sample_std_dev = 10.12\n",
    "sample_size = 40\n",
    "confidence_level = 0.99\n",
    "\n",
    "# Z-score for 99% confidence level\n",
    "z_score = norm.ppf(1 - (1 - confidence_level) / 2)\n",
    "\n",
    "# Standard error of the mean\n",
    "std_error = sample_std_dev / (sample_size ** 0.5)\n",
    "\n",
    "# Confidence interval\n",
    "margin_of_error = z_score * std_error\n",
    "confidence_interval = (sample_mean - margin_of_error, sample_mean + margin_of_error)\n",
    "\n",
    "print(f\"99% confidence interval for the mean duration: {confidence_interval}\")"
   ]
  },
  {
   "cell_type": "markdown",
   "metadata": {},
   "source": [
    "Here we can see that the awnser is 3."
   ]
  },
  {
   "cell_type": "markdown",
   "metadata": {},
   "source": [
    "#### Question III.2 (6)\n",
    "What is the p-value for the usual test of the null hypothesis H0 : µ = 30 against a two-sided\n",
    "alternative hypothesis?\n"
   ]
  },
  {
   "cell_type": "code",
   "execution_count": 16,
   "metadata": {},
   "outputs": [
    {
     "name": "stdout",
     "output_type": "stream",
     "text": [
      "t-statistic: 2.9122952364396517\n",
      "p-value: 0.005907860670444576\n",
      "p-value: 0.59%\n"
     ]
    }
   ],
   "source": [
    "# Given data\n",
    "µ0 = 30 # null hypothesis mean\n",
    "\n",
    "# Calculate the t-statistic\n",
    "t_statistic = (sample_mean - µ0) / std_error\n",
    "\n",
    "# Degrees of freedom\n",
    "df = sample_size - 1\n",
    "\n",
    "# Calculate the p-value for a two-sided test\n",
    "p_value = 2 * (1 - t.cdf(abs(t_statistic), df))\n",
    "\n",
    "print(f\"t-statistic: {t_statistic}\")\n",
    "print(f\"p-value: {p_value}\")\n",
    "\n",
    "p_value_percent = p_value * 100 # convert to percentage\n",
    "print(f\"p-value: {p_value_percent:.2f}%\")"
   ]
  },
  {
   "cell_type": "markdown",
   "metadata": {},
   "source": [
    "With the conversion to percentage we can see that the awnser is 2.  0.59 %"
   ]
  },
  {
   "cell_type": "markdown",
   "metadata": {},
   "source": [
    "## Exercise IV\n",
    "A company wants to estimate the cost of producing solar panels. Therefore, the engineers have\n",
    "designed an experiment to evaluate the costs of producing batches of different sizes and ensure\n",
    "that the observations are completely independent. The results are given in the table below.\n",
    "\n",
    "| **Batch Size (units)** | 50   | 100  | 150  | 200  | 250  | 300  | 350  | 400  | 450  | 500  |\n",
    "|-------------------------|-------|-------|-------|-------|-------|-------|-------|-------|-------|-------|\n",
    "| **Costs (M DKK)**      | 2.33  | 4.21  | 6.01  | 7.51  | 8.46  | 8.93  | 9.45  | 10.70 | 10.55 | 10.74 |\n",
    "\n",
    "The data can be read in python using the below code:\n",
    "// Define the data\n",
    "\n",
    "Batch = np.arange(1, 11) * 50  # Batch sizes\n",
    "\n",
    "Costs = np.array([2.33, 4.21, 6.01, 7.51, 8.46, 8.93, 9.45, 10.70, 10.55, 10.74])  # Costs in M DKK\n",
    "\n",
    "\n",
    "The engineers initially believe that the data can be described by a linear model of the form:\n",
    "\n",
    "$$\n",
    "Y_i = \\beta_0 + \\beta_1 x_i + \\varepsilon_i, \\quad i \\in \\{1, \\ldots, 10\\}\n",
    "$$\n",
    "\n",
    "The errors, $\\varepsilon_i$, are independent and identically distributed (i.i.d.) with a $\\mathcal{N}(0, \\sigma^2)$ distribution.\n",
    "\n",
    "In the model:\n",
    "- The **response variable** is the **cost** (in M DKK).\n",
    "- The **explanatory variable** is the **batch size** (in units).\n",
    "\n",
    "The engineers fit a **linear regression model** using the **least squares method**.\n",
    "\n",
    "#### Question IV.1 (7)\n",
    "What proportion of the variation in the costs is explained by the regression model?\n",
    "\n"
   ]
  },
  {
   "cell_type": "code",
   "execution_count": 20,
   "metadata": {},
   "outputs": [
    {
     "name": "stdout",
     "output_type": "stream",
     "text": [
      "R-squared: 0.9059547718379204\n",
      "p-value: 90.60%\n"
     ]
    }
   ],
   "source": [
    "Batch = np.arange(1, 11) * 50  # Batch sizes\n",
    "Costs = np.array([2.33, 4.21, 6.01, 7.51, 8.46, 8.93, 9.45, 10.70, 10.55, 10.74])  # Costs in M DKK\n",
    "\n",
    "# Fit the linear regression model\n",
    "model = sm.OLS(Costs, sm.add_constant(Batch)).fit() # Add a constant term to the predictor variable (Batch) to fit the intercept of the linear regression model\n",
    "\n",
    "# Calculate R-squared\n",
    "r_squared = model.rsquared\n",
    "print(f\"R-squared: {r_squared}\")\n",
    "r_squared_percent = r_squared * 100 # convert to percentage\n",
    "print(f\"p-value: {r_squared_percent:.2f}%\")"
   ]
  },
  {
   "cell_type": "markdown",
   "metadata": {},
   "source": [
    "So the awnser here is 2. 90.6%"
   ]
  },
  {
   "cell_type": "markdown",
   "metadata": {},
   "source": [
    "#### Question IV.2 (8)\n",
    "What is the 99% confidence interval for the slope, β1?"
   ]
  },
  {
   "cell_type": "code",
   "execution_count": 24,
   "metadata": {},
   "outputs": [
    {
     "name": "stdout",
     "output_type": "stream",
     "text": [
      "99% confidence interval for the slope (β1): [0.0112, 0.0251]\n"
     ]
    }
   ],
   "source": [
    "# Use the data from previous example\n",
    "alpha = 0.01  # significance level\n",
    "\n",
    "# Calculate the 99% confidence interval for the slope (β1)\n",
    "slope_conf_int = model.conf_int(alpha)[1]  # Get the confidence interval for the slope\n",
    "\n",
    "print(f\"99% confidence interval for the slope (β1): [{slope_conf_int[0]:.4f}, {slope_conf_int[1]:.4f}]\") \n"
   ]
  },
  {
   "cell_type": "markdown",
   "metadata": {},
   "source": [
    "So here the awnser is 1."
   ]
  },
  {
   "cell_type": "markdown",
   "metadata": {},
   "source": [
    "To validate the model, the engineers make two diagnostic plots: A normal Q-Q plot and a plot\n",
    "\n",
    "of the residuals against the fitted values. The two plots are seen below:\n",
    "\n",
    "#### Question IV.3 (9)\n",
    "Which of the following statements regarding the validity of the model is most correct?"
   ]
  },
  {
   "cell_type": "markdown",
   "metadata": {},
   "source": [
    "Here the awnser is 4. The residuals vs. fitted values plot indicates that the residuals are not independent of\n",
    "the fitted values\n"
   ]
  },
  {
   "cell_type": "markdown",
   "metadata": {},
   "source": [
    "## Exercise V\n",
    "The number of persons living in Danish dorms in 2023 is provided by Statistics Denmark. Here\n",
    "we focus only on a few age-categories:\n",
    "\n",
    "| Age Group | Males  | Females | Total  |\n",
    "|-----------|--------|---------|--------|\n",
    "| 18-24     | 14048  | 14128   | 28176  |\n",
    "| 25-29     | 8215   | 6028    | 14243  |\n",
    "| 30-39     | 2735   | 1397    | 4132   |\n",
    "| **Total** | 24998  | 21553   | 46551  |\n",
    "\n",
    "#### Question V.1 (10)\n",
    "What proportion of the residents of Danish dormitories are males (among the 18-39 year olds)?\n"
   ]
  },
  {
   "cell_type": "code",
   "execution_count": 25,
   "metadata": {},
   "outputs": [
    {
     "name": "stdout",
     "output_type": "stream",
     "text": [
      "Proportion of males: 0.5370\n"
     ]
    }
   ],
   "source": [
    "# Given data\n",
    "total_males = 14048 + 8215 + 2735\n",
    "total_residents = 28176 + 14243 + 4132\n",
    "\n",
    "# Calculate the proportion of males\n",
    "proportion_males = total_males / total_residents\n",
    "print(f\"Proportion of males: {proportion_males:.4f}\")"
   ]
  },
  {
   "cell_type": "markdown",
   "metadata": {},
   "source": [
    "Here we can see that the awnser is 4."
   ]
  },
  {
   "cell_type": "markdown",
   "metadata": {},
   "source": [
    "#### Question V.2 (11)\n",
    "We would like to know whether the proportions of males in different age-groups is significantly\n",
    "different (using a 5% significance level). Which of the following statements is true?\n"
   ]
  },
  {
   "cell_type": "markdown",
   "metadata": {},
   "source": [
    "1. We should use a **paired t-test** with $\\alpha=0.05$ to test if there is a significant difference between age groups. The result is that we do observe a significant difference.\n",
    "\n",
    "2. We should use an **unpaired t-test** with $\\alpha=0.025$ to test if there is a significant difference between age groups. The result is that we do observe a significant difference.\n",
    "\n",
    "3. We should use an **unpaired t-test** with $\\alpha=0.05$ to test if there is a significant difference between age groups. The result is that we do **NOT** observe a significant difference.\n",
    "\n",
    "4. We should use a $\\chi^2$-test with **6 degrees of freedom** to test if there is a significant difference between age groups. The result is that we do observe a significant difference.\n",
    "\n",
    "5. We should use a $\\chi^2$-test with **2 degrees of freedom** to test if there is a significant difference between age groups. The result is that we do observe a significant difference.\n",
    "\n",
    "Here the awnser is 5. We should use a $\\chi^2$-test with **2 degrees of freedom** to test if there is a significant difference between age groups. The result is that we do observe a significant difference."
   ]
  },
  {
   "cell_type": "code",
   "execution_count": 27,
   "metadata": {},
   "outputs": [
    {
     "name": "stdout",
     "output_type": "stream",
     "text": [
      "Chi-squared statistic: 517.1881307484355\n",
      "p-value: 4.9433840849567903e-113\n",
      "Degrees of freedom: 2\n",
      "Significant difference: True\n"
     ]
    }
   ],
   "source": [
    "# Perform the chi-squared test\n",
    "chi2_stat, p_val, dof, expected = chi2_contingency(observed)\n",
    "\n",
    "print(f\"Chi-squared statistic: {chi2_stat}\")\n",
    "print(f\"p-value: {p_val}\")\n",
    "print(f\"Degrees of freedom: {dof}\")\n",
    "\n",
    "# Determine if the result is significant at the 5% significance level\n",
    "significant = p_val < significance_level\n",
    "print(f\"Significant difference: {significant}\")"
   ]
  },
  {
   "cell_type": "markdown",
   "metadata": {},
   "source": [
    "#### Question V.3 (12)\n",
    "Under the hypothesis that the distribution between for male and females is the same for all\n",
    "age groups, what is the expected number of males in the age group 18-24 living in dorms (to\n",
    "be compared with the table above and used for calculating the appropriate test-statistic)?"
   ]
  },
  {
   "cell_type": "code",
   "execution_count": 28,
   "metadata": {},
   "outputs": [
    {
     "name": "stdout",
     "output_type": "stream",
     "text": [
      "Expected number of males in the age group 18-24: 15130.58\n"
     ]
    }
   ],
   "source": [
    "# Total number of residents in the age group 18-24\n",
    "total_residents_18_24 = 28176\n",
    "\n",
    "# Calculate the expected number of males in the age group 18-24\n",
    "expected_males_18_24 = (total_males / total_residents) * total_residents_18_24\n",
    "print(f\"Expected number of males in the age group 18-24: {expected_males_18_24:.2f}\")"
   ]
  },
  {
   "cell_type": "markdown",
   "metadata": {},
   "source": [
    "Here the awnser is 2."
   ]
  },
  {
   "cell_type": "markdown",
   "metadata": {},
   "source": [
    "#### Question V.4 (13)\n",
    "We now consider only the 18-24 year-olds. Which of the following statements is true (if relevant,\n",
    "in the answer options, significance level α = 0.05 is used)?\n",
    "\n",
    "1. Among the 18-24 year-olds, the proportion of males is **NOT** significantly different from 0.5, as the estimated 95% confidence interval for the proportion of males in this age group is \\([0.493, 0.504]\\).\n",
    "\n",
    "2. Among the 18-24 year-olds, the proportion of males is **exactly** 0.5.\n",
    "\n",
    "3. Among the 18-24 year-olds, the proportion of males is significantly different from 0.5, as the estimated 95% confidence interval for the proportion of males in this age group is \\([0.501, 0.533]\\).\n",
    "\n",
    "4. Among the 18-24 year-olds, the proportion of males is **NOT** significantly different from 0.5, as the estimated 95% confidence interval for the proportion of males in this age group is \\([0.501, 0.533]\\).\n",
    "\n",
    "5. Among the 18-24 year-olds, the proportion of males is significantly different from 0.5, as the estimated 95% confidence interval for the proportion of males in this age group is \\([0.532, 0.542]\\).\n",
    "\n"
   ]
  },
  {
   "cell_type": "markdown",
   "metadata": {},
   "source": [
    "The awnser to this one is 1. Among the 18-24 year-olds, the proportion of males is **NOT** significantly different from 0.5, as the estimated 95% confidence interval for the proportion of males in this age group is \\([0.493, 0.504]\\).\n",
    "\n",
    "This can also be solved with the bellow code:"
   ]
  },
  {
   "cell_type": "code",
   "execution_count": 32,
   "metadata": {},
   "outputs": [
    {
     "name": "stdout",
     "output_type": "stream",
     "text": [
      "95% confidence interval for the proportion of males in the age group 18-24: (0.4927, 0.5044)\n"
     ]
    }
   ],
   "source": [
    "# Given data\n",
    "males_18_24 = 14048\n",
    "total_18_24 = 28176\n",
    "proportion_males_18_24 = males_18_24 / total_18_24\n",
    "\n",
    "# Standard error for the proportion\n",
    "std_error_18_24 = (proportion_males_18_24 * (1 - proportion_males_18_24) / total_18_24) ** 0.5\n",
    "\n",
    "# Z-score for 95% confidence level\n",
    "z_score_95 = norm.ppf(1 - 0.05 / 2)\n",
    "\n",
    "# Confidence interval\n",
    "margin_of_error_18_24 = z_score_95 * std_error_18_24\n",
    "confidence_interval_18_24 = (proportion_males_18_24 - margin_of_error_18_24, proportion_males_18_24 + margin_of_error_18_24)\n",
    "\n",
    "print(f\"95% confidence interval for the proportion of males in the age group 18-24: ({confidence_interval_18_24[0]:.4f}, {confidence_interval_18_24[1]:.4f})\")"
   ]
  },
  {
   "cell_type": "markdown",
   "metadata": {},
   "source": [
    "#### Question V.5 (14)\n",
    "Assuming independence between individuals. What is the probability, that 100 or more females\n",
    "live in a dorm with 190 people, if the probability of an individual being a female is assumed to\n",
    "be 0.45?"
   ]
  },
  {
   "cell_type": "code",
   "execution_count": 34,
   "metadata": {},
   "outputs": [
    {
     "name": "stdout",
     "output_type": "stream",
     "text": [
      "Probability that 100 or more females live in a dorm with 190 people: 0.0208\n"
     ]
    }
   ],
   "source": [
    "# Given data\n",
    "n = 190  # total number of people in the dorm\n",
    "p_female = 0.45  # probability of an individual being a female\n",
    "k = 100  # number of females\n",
    "\n",
    "# Calculate the probability using the binomial distribution\n",
    "prob_100_or_more_females = binom.sf(k - 1, n, p_female)  # sf (survival function) is 1 - cdf\n",
    "\n",
    "print(f\"Probability that 100 or more females live in a dorm with 190 people: {prob_100_or_more_females:.4f}\")"
   ]
  },
  {
   "cell_type": "markdown",
   "metadata": {},
   "source": [
    "we need to round up a litte but, and here the anwser is 1."
   ]
  },
  {
   "cell_type": "markdown",
   "metadata": {},
   "source": [
    "## Exercise VI\n",
    "A simple predator-prey model is the **Lotka-Volterra model**:\n",
    "\n",
    "$$\n",
    "\\frac{dx}{dt} = \\alpha x - \\beta xy\n",
    "$$\n",
    "\n",
    "$$\n",
    "\\frac{dy}{dt} = \\delta xy - \\gamma y\n",
    "$$\n",
    "\n",
    "where:\n",
    "- \\( x \\) is the size of the prey population.\n",
    "- \\( y \\) is the size of the predator population.\n",
    "\n",
    "The equation allows for a **constant of motion** (i.e., the quantity will stay constant through time for given initial conditions), given by:\n",
    "\n",
    "$$\n",
    "K = y^\\alpha e^{-\\beta y} x^\\gamma e^{-\\delta x}\n",
    "$$\n",
    "\n",
    "Assume that:\n",
    "- $\\alpha = \\frac{2}{3} $,\n",
    "- $ \\beta = \\frac{4}{3} $,\n",
    "- $ \\gamma = \\delta = 1 $.\n",
    "\n",
    "The predator and prey population sizes have been observed as:\n",
    "$$\n",
    "y = \\frac{1}{2}, \\quad x = 1\n",
    "$$\n",
    "\n",
    "The uncertainties of the observations are:\n",
    "$$\n",
    "\\sigma^2_y = \\frac{1}{162}, \\quad \\sigma^2_x = \\frac{1}{8^2}\n",
    "$$\n",
    "\n",
    "Furthermore, the observations are assumed to be **independent**.\n",
    "\n",
    "#### Question VI.1 (15)\n",
    "Using the non-linear error propagation rule what is the approximation of the variance of K?\n"
   ]
  },
  {
   "cell_type": "code",
   "execution_count": 35,
   "metadata": {},
   "outputs": [
    {
     "name": "stdout",
     "output_type": "stream",
     "text": [
      "Approximate variance of K: 0\n"
     ]
    }
   ],
   "source": [
    "import sympy as sp\n",
    "\n",
    "# Define the variables and constants\n",
    "x, y = sp.symbols('x y')\n",
    "alpha = 2/3\n",
    "beta = 4/3\n",
    "gamma = 1\n",
    "delta = 1\n",
    "\n",
    "# Define the function K\n",
    "K = y**alpha * sp.exp(-beta * y) * x**gamma * sp.exp(-delta * x)\n",
    "\n",
    "# Calculate the partial derivatives\n",
    "partial_K_x = sp.diff(K, x)\n",
    "partial_K_y = sp.diff(K, y)\n",
    "\n",
    "# Substitute the given values into the partial derivatives\n",
    "partial_K_x_val = partial_K_x.subs({x: 1, y: 1/2})\n",
    "partial_K_y_val = partial_K_y.subs({x: 1, y: 1/2})\n",
    "\n",
    "# Given variances\n",
    "sigma_x_squared = 1 / 64\n",
    "sigma_y_squared = 1 / 162\n",
    "\n",
    "# Calculate the variance of K\n",
    "variance_K = (partial_K_x_val**2 * sigma_x_squared) + (partial_K_y_val**2 * sigma_y_squared)\n",
    "variance_K_val = variance_K.evalf()\n",
    "\n",
    "print(f\"Approximate variance of K: {variance_K_val}\")"
   ]
  },
  {
   "cell_type": "markdown",
   "metadata": {},
   "source": [
    "Here is the awnser 2."
   ]
  },
  {
   "cell_type": "markdown",
   "metadata": {},
   "source": [
    "#### Question VI.2 (16)\n",
    "### Question VI.2 (16)\n",
    "\n",
    "Assume now that the predator population is observed without error ($\\sigma^2_y = 0$), and hence that the only source of uncertainty is the prey population. \n",
    "\n",
    "Using the variance from above ($\\sigma^2_x = \\frac{1}{8^2}$) and assuming normality of the error in $x$, i.e.,\n",
    "\n",
    "$$\n",
    "X = x + \\varepsilon \\quad \\text{with} \\quad \\varepsilon \\sim N(0, \\sigma^2_x)\n",
    "$$\n",
    "\n",
    "In what interval does the standard deviation of $K$ fall? (The answer should not rely on the non-linear approximations of the error propagation rule and should rather be based on simulation.)\n"
   ]
  },
  {
   "cell_type": "code",
   "execution_count": 37,
   "metadata": {},
   "outputs": [
    {
     "name": "stdout",
     "output_type": "stream",
     "text": [
      "Standard deviation of K: 0.0014\n",
      "The standard deviation of K falls in the interval: (10^-4, 0.01)\n"
     ]
    }
   ],
   "source": [
    "# Given data\n",
    "sigma_x = 1 / 8  # standard deviation of x\n",
    "num_simulations = 10000  # number of simulations\n",
    "\n",
    "# Simulate x values with normal distribution\n",
    "x_samples = np.random.normal(loc=1, scale=sigma_x, size=num_simulations)\n",
    "\n",
    "# Calculate K for each simulated x value\n",
    "K_samples = (x_samples * y_val**alpha * np.exp(-x_samples) * np.exp(-beta * y_val))\n",
    "\n",
    "# Calculate the standard deviation of K\n",
    "std_dev_K = np.std(K_samples)\n",
    "\n",
    "print(f\"Standard deviation of K: {std_dev_K:.4f}\")\n",
    "\n",
    "# Determine the interval in which the standard deviation falls\n",
    "if 0.07 <= std_dev_K <= 0.1:\n",
    "    interval = \"(0.07, 0.1)\"\n",
    "elif 0.12 <= std_dev_K <= 0.2:\n",
    "    interval = \"(0.12, 0.2)\"\n",
    "elif 1e-4 <= std_dev_K <= 0.01:\n",
    "    interval = \"(10^-4, 0.01)\"\n",
    "elif 0.03 <= std_dev_K <= 0.05:\n",
    "    interval = \"(0.03, 0.05)\"\n",
    "elif 0.3 <= std_dev_K <= 0.5:\n",
    "    interval = \"(0.3, 0.5)\"\n",
    "else:\n",
    "    interval = \"None of the given intervals\"\n",
    "\n",
    "print(f\"The standard deviation of K falls in the interval: {interval}\")"
   ]
  },
  {
   "cell_type": "markdown",
   "metadata": {},
   "source": [
    "The awnser her is: 3"
   ]
  },
  {
   "cell_type": "markdown",
   "metadata": {},
   "source": [
    "## Exercise VII\n",
    "Let the function $f(x)$ be defined by:\n",
    "\n",
    "$$\n",
    "f(x) = \\alpha \\phi_1(x) + \\beta \\phi_2(x),\n",
    "$$\n",
    "\n",
    "where $\\phi_i(x)$ is the probability density function of a normal random variable with mean $\\mu_i$ and variance $\\sigma^2_i$.\n",
    "\n",
    "#### Question VII.1 (17)\n",
    "\n",
    "Under what conditions is $f(x)$ a probability density function? (The answer should apply for any value of $\\sigma_i > 0$ and $\\mu_i \\in \\mathbb{R}$.)\n",
    "\n",
    "_____SKIPPED______\n",
    "\n"
   ]
  },
  {
   "cell_type": "markdown",
   "metadata": {},
   "source": [
    "## Exercise VIII\n",
    "\n",
    "An aircraft manufacturer uses an expensive type of screws in the production of a certain model.  \n",
    "To reduce production costs, the manufacturer considers replacing the expensive screws with a cheaper type of screws. Therefore, the manufacturer tests the tensile strength (MPa) of the two types of screws, and the results are shown in the table below:\n",
    "\n",
    "| **Tensile Strength**       | **Cheap** | **Expensive** |\n",
    "|----------------------------|-----------|---------------|\n",
    "| **Sample mean (MPa)**      | 1250      | 1300          |\n",
    "| **Sample standard deviation (MPa)** | 54.24     | 28.54         |\n",
    "| **Sample size**            | 25000     | 15000         |\n",
    "\n",
    "#### Question VIII.1 (18)\n",
    "\n",
    "Assuming the samples were completely random, what is the 95% confidence interval for the difference in mean tensile strengths (mean of the cheap type minus mean of the expensive type) based on the test results?\n"
   ]
  },
  {
   "cell_type": "code",
   "execution_count": 39,
   "metadata": {},
   "outputs": [
    {
     "name": "stdout",
     "output_type": "stream",
     "text": [
      "95% confidence interval for the difference in mean tensile strengths: (-50.812809165000694, -49.187190834999306)\n"
     ]
    }
   ],
   "source": [
    "# Given data\n",
    "mean_cheap = 1250\n",
    "mean_expensive = 1300\n",
    "std_dev_cheap = 54.24\n",
    "std_dev_expensive = 28.54\n",
    "n_cheap = 25000\n",
    "n_expensive = 15000\n",
    "confidence_level = 0.95\n",
    "\n",
    "# Z-score for 95% confidence level\n",
    "z_score_95 = norm.ppf(1 - (1 - confidence_level) / 2)\n",
    "\n",
    "# Standard error of the difference in means\n",
    "std_error_diff = ((std_dev_cheap**2 / n_cheap) + (std_dev_expensive**2 / n_expensive)) ** 0.5\n",
    "\n",
    "# Confidence interval\n",
    "mean_diff = mean_cheap - mean_expensive\n",
    "margin_of_error = z_score_95 * std_error_diff\n",
    "confidence_interval_diff = (mean_diff - margin_of_error, mean_diff + margin_of_error)\n",
    "\n",
    "print(f\"95% confidence interval for the difference in mean tensile strengths: {confidence_interval_diff}\")"
   ]
  },
  {
   "cell_type": "markdown",
   "metadata": {},
   "source": [
    "Here the awnser is 5."
   ]
  },
  {
   "cell_type": "markdown",
   "metadata": {},
   "source": [
    "#### Question VIII.2 (19)\n",
    "Under the null hypothesis H0 : µcheap − µexpensive = −50, what is the observed test statistic\n",
    "based on the test results?"
   ]
  },
  {
   "cell_type": "code",
   "execution_count": 40,
   "metadata": {},
   "outputs": [
    {
     "name": "stdout",
     "output_type": "stream",
     "text": [
      "Observed test statistic: 0.0\n"
     ]
    }
   ],
   "source": [
    "# Null hypothesis mean difference\n",
    "null_hypothesis_diff = -50\n",
    "\n",
    "# Calculate the observed test statistic\n",
    "observed_test_statistic = (mean_cheap - mean_expensive - null_hypothesis_diff) / std_error_diff\n",
    "\n",
    "print(f\"Observed test statistic: {observed_test_statistic}\")"
   ]
  },
  {
   "cell_type": "markdown",
   "metadata": {},
   "source": [
    "Here the awnser is 4."
   ]
  },
  {
   "cell_type": "markdown",
   "metadata": {},
   "source": [
    "The manufacturer has measured the fuel consumption (logarithmic values, in kg) of the **current model** and the **new model** on 10 popular routes under similar weather and weight conditions.\n",
    "\n",
    "| Route                         | Current Model | New Model |\n",
    "|-------------------------------|---------------|-----------|\n",
    "| Sapporo - Tokyo               | 7.964         | 7.932     |\n",
    "| Sydney - Melbourne            | 7.813         | 7.762     |\n",
    "| Mumbai - Delhi                | 8.299         | 8.243     |\n",
    "| Beijing - Shanghai            | 8.219         | 8.174     |\n",
    "| Paris - Montreal              | 9.832         | 9.782     |\n",
    "| Dubai - London                | 9.829         | 9.775     |\n",
    "| London - New York             | 9.842         | 9.794     |\n",
    "| New York - Los Angeles        | 9.498         | 9.445     |\n",
    "| Kuala Lumpur - Singapore      | 7.023         | 6.942     |\n",
    "| Cancun - Mexico City          | 8.408         | 8.347     |\n",
    "\n"
   ]
  },
  {
   "cell_type": "code",
   "execution_count": 2,
   "metadata": {},
   "outputs": [
    {
     "name": "stdout",
     "output_type": "stream",
     "text": [
      "Logarithm of c: [7.964, 7.813, 8.299, 8.219, 9.832, 9.829, 9.842, 9.498, 7.023, 8.408]\n",
      "Logarithm of n: [7.932, 7.762, 8.243, 8.174, 9.782, 9.775, 9.794, 9.445, 6.942, 8.347]\n"
     ]
    }
   ],
   "source": [
    "# Define the data as lists\n",
    "log_c = [7.964, 7.813, 8.299, 8.219, 9.832, 9.829, 9.842, 9.498, 7.023, 8.408]\n",
    "log_n = [7.932, 7.762, 8.243, 8.174, 9.782, 9.775, 9.794, 9.445, 6.942, 8.347]\n",
    "\n",
    "print(f\"Logarithm of c: {log_c}\")\n",
    "print(f\"Logarithm of n: {log_n}\")"
   ]
  },
  {
   "cell_type": "markdown",
   "metadata": {},
   "source": [
    "#### Question VIII.3 (20)\n",
    "What is the p-value for the appropriate test of the null hypothesis H0 : δ = µcurrent−µnew = 0.05\n",
    "against a two-sided alternative hypothesis? (Here µcurrent and µnew refer to the mean of the\n",
    "logarithm of the fuel consumption.)\n"
   ]
  },
  {
   "cell_type": "code",
   "execution_count": 7,
   "metadata": {},
   "outputs": [
    {
     "name": "stdout",
     "output_type": "stream",
     "text": [
      "Adjusted t-statistic: 0.785740937887215\n",
      "Adjusted p-value: 0.4522084672096742\n"
     ]
    }
   ],
   "source": [
    "\n",
    "\n",
    "# Calculate the differences\n",
    "differences = np.array(log_c) - np.array(log_n)\n",
    "\n",
    "# Perform the paired t-test\n",
    "t_statistic, p_value = ttest_rel(log_c, log_n)\n",
    "\n",
    "# Adjust the t-statistic for the null hypothesis difference of 0.05\n",
    "mean_difference = np.mean(differences)\n",
    "adjusted_t_statistic = (mean_difference - 0.05) / (np.std(differences, ddof=1) / np.sqrt(len(differences)))\n",
    "\n",
    "# Calculate the p-value for the adjusted t-statistic\n",
    "adjusted_p_value = 2 * (1 - t.cdf(abs(adjusted_t_statistic), df=len(differences) - 1))\n",
    "\n",
    "print(f\"Adjusted t-statistic: {adjusted_t_statistic}\")\n",
    "print(f\"Adjusted p-value: {adjusted_p_value}\")"
   ]
  },
  {
   "cell_type": "markdown",
   "metadata": {},
   "source": [
    "Here the correct awnser is 3."
   ]
  },
  {
   "cell_type": "markdown",
   "metadata": {},
   "source": [
    "## Exercise IX\n",
    "\n",
    "A car manufacturer wants to determine if there is a difference in breaking strength in beams made with metal from different suppliers. Let Y represent the breaking strength of beams. In\n",
    "the following breaking strength are measured on beams each made with metal from a single\n",
    "supplier. Metal from four different suppliers were included in the study and the breaking\n",
    "strength was measured for 5 similar beams from each supplier:.\n",
    "\n",
    "| Supplier A | Supplier B | Supplier C | Supplier D |\n",
    "|------------|------------|------------|------------|\n",
    "| 92.0       | 131.0      | 74.1       | 90.4       |\n",
    "| 111.6      | 103.5      | 52.8       | 95.2       |\n",
    "| 98.4       | 100.0      | 82.5       | 87.6       |\n",
    "| 87.7       | 84.7       | 94.7       | 63.2       |\n",
    "| 134.9      | 134.5      | 107.3      | 119.5      |\n",
    "\n",
    "#### Question IX.1 (21)\n",
    "The engineers in the company have conducted the following analysis in R. What is the conclusion, at significance level α = 5%, about the difference in breaking strength of the test beams\n",
    "made with metal from the different suppliers (both conclusion and argument must be correct)?\n",
    "\n"
   ]
  },
  {
   "cell_type": "code",
   "execution_count": 8,
   "metadata": {},
   "outputs": [
    {
     "name": "stdout",
     "output_type": "stream",
     "text": [
      "F-statistic: 2.026965545909903\n",
      "p-value: 0.150669891510969\n",
      "There is no significant difference in breaking strength between the suppliers.\n"
     ]
    }
   ],
   "source": [
    "from scipy.stats import f_oneway\n",
    "\n",
    "# Breaking strength data for each supplier\n",
    "supplier_A = [92.0, 111.6, 98.4, 87.7, 134.9]\n",
    "supplier_B = [131.0, 103.5, 100.0, 84.7, 134.5]\n",
    "supplier_C = [74.1, 52.8, 82.5, 94.7, 107.3]\n",
    "supplier_D = [90.4, 95.2, 87.6, 63.2, 119.5]\n",
    "\n",
    "# Perform one-way ANOVA\n",
    "f_statistic, p_value = f_oneway(supplier_A, supplier_B, supplier_C, supplier_D)\n",
    "\n",
    "print(f\"F-statistic: {f_statistic}\")\n",
    "print(f\"p-value: {p_value}\")\n",
    "\n",
    "# Conclusion at significance level α = 0.05\n",
    "alpha = 0.05\n",
    "if p_value < alpha:\n",
    "    conclusion = \"There is a significant difference in breaking strength between the suppliers.\"\n",
    "else:\n",
    "    conclusion = \"There is no significant difference in breaking strength between the suppliers.\"\n",
    "\n",
    "print(conclusion)"
   ]
  }
 ],
 "metadata": {
  "kernelspec": {
   "display_name": "Python 3",
   "language": "python",
   "name": "python3"
  },
  "language_info": {
   "codemirror_mode": {
    "name": "ipython",
    "version": 3
   },
   "file_extension": ".py",
   "mimetype": "text/x-python",
   "name": "python",
   "nbconvert_exporter": "python",
   "pygments_lexer": "ipython3",
   "version": "3.11.9"
  }
 },
 "nbformat": 4,
 "nbformat_minor": 2
}
