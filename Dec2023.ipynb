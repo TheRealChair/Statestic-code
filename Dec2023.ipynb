{
 "cells": [
  {
   "cell_type": "code",
   "execution_count": 35,
   "metadata": {},
   "outputs": [],
   "source": [
    "import math\n",
    "import numpy as np\n",
    "import matplotlib.pyplot as plt\n",
    "import pandas as pd\n",
    "import scipy.stats as stats\n",
    "import statsmodels.formula.api as smf\n",
    "import statsmodels.api as sm\n",
    "\n",
    "from math import exp\n",
    "from scipy.stats import f_oneway\n",
    "from scipy.stats import chi2_contingency\n",
    "from scipy.stats import chi2\n",
    "from scipy.stats import ttest_rel\n",
    "from scipy.stats import binom\n",
    "from scipy.stats import poisson\n",
    "from scipy.stats import ttest_1samp\n",
    "from scipy.stats import mode\n",
    "from scipy.stats import ttest_ind\n",
    "from scipy.stats import norm\n",
    "from scipy.stats import t"
   ]
  },
  {
   "cell_type": "markdown",
   "metadata": {},
   "source": [
    "# December 2023 Statistics Exam\n",
    "\n",
    "## Exercise I\n",
    "A population is exponentially distributed with rate λ = 2.\n",
    "\n",
    "#### Question I.1 (1)\n",
    "Which of the following statements is true?\n",
    "\n",
    "1. □ The probability of obtaining an observation between 1 and 2 in a random draw can be calculated in R by:  \n",
    "   `pexp(1, rate=2) - pexp(2, rate=2)`\n",
    "\n",
    "2. □ The probability of obtaining an observation below 1 in a random draw can be calculated in R by:  \n",
    "   `pexp(2, rate=2)`\n",
    "\n",
    "3. □ The probability of obtaining an observation below 1 in a random draw can be calculated in R by:  \n",
    "   `1 - pexp(1, rate=2)`\n",
    "\n",
    "4. □ The probability of obtaining an observation above 3 in a random draw can be calculated in R by:  \n",
    "   `dexp(3, rate=2)`\n",
    "\n",
    "5. □ None of the above statements are correct.\n"
   ]
  },
  {
   "cell_type": "markdown",
   "metadata": {},
   "source": [
    "The correct awnser here is 5."
   ]
  },
  {
   "cell_type": "markdown",
   "metadata": {},
   "source": [
    "#### Question I.2 (2)\n",
    "According to the central limit theorem (CLT) what type of distribution approximates the mean\n",
    "of a random sample with n = 100 observations from the population (note that CLT does not\n",
    "say anything particular about the sample size n = 100)?\n"
   ]
  },
  {
   "cell_type": "markdown",
   "metadata": {},
   "source": [
    "Here the correct awnser is 2.\n",
    "\n",
    "This is why\n",
    "The Central Limit Theorem (CLT) states that:\n",
    "\n",
    "The sampling distribution of the mean of a sufficiently large random sample\n",
    "(regardless of the population's distribution) will be approximately normal\n",
    "with a mean equal to the population mean ($\\mu$) and a standard deviation equal to:\n",
    "\n",
    "$$\n",
    "\\frac{\\sigma}{\\sqrt{n}}\n",
    "$$\n",
    "\n",
    "where $\\sigma$ is the population standard deviation and $n$ is the sample size."
   ]
  },
  {
   "cell_type": "markdown",
   "metadata": {},
   "source": [
    "## Exercise II\n",
    "A one-way ANOVA model has been fitted to some data from a balanced experiment (an equal number of observations for each treatment). The ANOVA table from the analysis is given below, where some numbers are replaced by letters.\n",
    "\n",
    "| Source      | DF  | SS   | MS   | Test Statistic | p-value |\n",
    "|-------------|------|------|------|----------------|---------|\n",
    "| Treatment   | 9    | 207  | D    | E              | 0.03    |\n",
    "| Residual    | 50   | B    | C    |                |         |\n",
    "| Total       | A    | 707  |      |                |         |\n",
    "\n",
    "#### Question II.1 (3)\n",
    "Which set of values is consistent with the ANOVA table?\n"
   ]
  },
  {
   "cell_type": "code",
   "execution_count": 2,
   "metadata": {},
   "outputs": [
    {
     "name": "stdout",
     "output_type": "stream",
     "text": [
      "Total DF (A) = 59\n",
      "Residual SS (B) = 500\n",
      "Residual MS (C) = 10.0\n",
      "Treatment MS (D) = 23.0\n",
      "Test Statistic (E) = 2.3\n"
     ]
    }
   ],
   "source": [
    "# Given values\n",
    "treatment_df = 9\n",
    "treatment_ss = 207\n",
    "residual_df = 50\n",
    "total_ss = 707\n",
    "p_value = 0.03\n",
    "\n",
    "# Calculate total DF\n",
    "total_df = treatment_df + residual_df\n",
    "\n",
    "# Calculate residual SS\n",
    "residual_ss = total_ss - treatment_ss\n",
    "\n",
    "# Calculate MS for treatment and residual\n",
    "ms_treatment = treatment_ss / treatment_df\n",
    "ms_residual = residual_ss / residual_df\n",
    "\n",
    "# Calculate test statistic\n",
    "test_statistic = ms_treatment / ms_residual\n",
    "\n",
    "# Verify the values\n",
    "print(f\"Total DF (A) = {total_df}\")\n",
    "print(f\"Residual SS (B) = {residual_ss}\")\n",
    "print(f\"Residual MS (C) = {ms_residual}\")\n",
    "print(f\"Treatment MS (D) = {ms_treatment}\")\n",
    "print(f\"Test Statistic (E) = {test_statistic}\")"
   ]
  },
  {
   "cell_type": "markdown",
   "metadata": {},
   "source": [
    "Here the awnser is 2."
   ]
  },
  {
   "cell_type": "markdown",
   "metadata": {},
   "source": [
    "#### Question II.2 (4)\n",
    "Two specific treatments are then compared in the post hoc analysis. What is the least significant\n",
    "difference between the two treatment means using a 5% significance level?"
   ]
  },
  {
   "cell_type": "code",
   "execution_count": 5,
   "metadata": {},
   "outputs": [
    {
     "name": "stdout",
     "output_type": "stream",
     "text": [
      "Least Significant Difference (LSD) = 2.8405\n"
     ]
    }
   ],
   "source": [
    "# Number of observations per treatment (assuming balanced design)\n",
    "n = 10  # Example value, replace with actual number if different\n",
    "\n",
    "# Significance level\n",
    "alpha = 0.05\n",
    "\n",
    "# Calculate the critical t-value\n",
    "t_critical = stats.t.ppf(1 - alpha/2, residual_df)\n",
    "\n",
    "# Calculate the least significant difference (LSD)\n",
    "lsd = t_critical * (2 * ms_residual / n) ** 0.5\n",
    "\n",
    "print(f\"Least Significant Difference (LSD) = {lsd:.4f}\")"
   ]
  },
  {
   "cell_type": "markdown",
   "metadata": {},
   "source": [
    "Here the awnser is 1."
   ]
  },
  {
   "cell_type": "markdown",
   "metadata": {},
   "source": [
    "## Exercise III\n",
    "Temperature in the indoor environment is an important part of people’s well being, and in\n",
    "addition heating is an important part of the energy consumption in houses.\n",
    "A house owner is considering the indoor temperature in one of the rooms of his house. As a\n",
    "first approach, he decides to analyse the daily average temperature in the room over a period\n",
    "of time. The R-output from his analysis is given below (the vector temp contains the daily\n",
    "average temperatures in the room).\n",
    "\n",
    "**Data:** `temp`\n",
    "\n",
    "- **t** = 160.53  \n",
    "- **df** = 233  \n",
    "- **p-value** < 2.2e-16  \n",
    "\n",
    "**Alternative Hypothesis:** True mean is not equal to 0\n",
    "\n",
    "**95% Confidence Interval:**\n",
    "- Lower Bound: 19.97593  \n",
    "- Upper Bound: 20.47234  \n",
    "\n",
    "**Sample Estimates:**\n",
    "- Mean of x: 20.22413\n",
    "\n",
    "#### Question III.1 (5)\n",
    "How many days did the house owner use for the analysis?\n"
   ]
  },
  {
   "cell_type": "code",
   "execution_count": 12,
   "metadata": {},
   "outputs": [
    {
     "name": "stdout",
     "output_type": "stream",
     "text": [
      "Number of days used for the analysis = 234\n"
     ]
    }
   ],
   "source": [
    "# Given degrees of freedom\n",
    "df = 233\n",
    "\n",
    "# Calculate the number of days (sample size)\n",
    "number_of_days = df + 1\n",
    "\n",
    "print(f\"Number of days used for the analysis = {number_of_days}\")"
   ]
  },
  {
   "cell_type": "markdown",
   "metadata": {},
   "source": [
    "The awnser here is 3."
   ]
  },
  {
   "cell_type": "markdown",
   "metadata": {},
   "source": [
    "#### Question III.2 (6)\n",
    "The house owner wants to test the hypotesis that the mean temperature in the room is 20 ◦C\n",
    "against the alternative that the mean temperature is different from 20 ◦C. What is the usual\n",
    "p-value for this hypothesis test?"
   ]
  },
  {
   "cell_type": "code",
   "execution_count": 14,
   "metadata": {},
   "outputs": [
    {
     "name": "stdout",
     "output_type": "stream",
     "text": [
      "t-statistic = 1.7791\n",
      "p-value = 0.0765\n"
     ]
    }
   ],
   "source": [
    "# Given values\n",
    "sample_mean = 20.22413\n",
    "population_mean = 20\n",
    "confidence_interval = [19.97593, 20.47234]\n",
    "sample_size = number_of_days\n",
    "\n",
    "# Calculate t-critical value for 95% confidence level\n",
    "t_critical = t.ppf(0.975, df)\n",
    "\n",
    "# Calculate sample standard deviation from confidence interval\n",
    "margin_of_error = (confidence_interval[1] - confidence_interval[0]) / 2\n",
    "sample_std = margin_of_error * (sample_size**0.5) / t_critical\n",
    "\n",
    "# Calculate the t-statistic\n",
    "t_statistic = (sample_mean - population_mean) / (sample_std / sample_size**0.5)\n",
    "\n",
    "# Calculate the two-tailed p-value\n",
    "p_value = 2 * (1 - t.cdf(abs(t_statistic), df))\n",
    "\n",
    "# Print results\n",
    "print(f\"t-statistic = {t_statistic:.4f}\")\n",
    "print(f\"p-value = {p_value:.4f}\")"
   ]
  },
  {
   "cell_type": "markdown",
   "metadata": {},
   "source": [
    "Here the awnser is 5."
   ]
  },
  {
   "cell_type": "markdown",
   "metadata": {},
   "source": [
    "The house owner would also like to analyse the variation over time. In order to do so, he decides\n",
    "to test whether or not the mean temperature at a specific time of day is constant over time.\n",
    "Formally, he does this by testing the hypothesis that the temperature at that time of day can\n",
    "be assumed to be the same in two different months. The output of the analysis is given below\n",
    "(the test statistics have been replaced by Q):\n",
    "\n",
    "\n",
    "Welch Two Sample t-test\n",
    "\n",
    " Data: `temp1` and `temp2`\n",
    "\n",
    "- **t-statistic**: \\( Q \\)  \n",
    "- **Degrees of Freedom**: \\( df = 53.627 \\)  \n",
    "- **p-value**: 0.9793  \n",
    "\n",
    " Alternative Hypothesis:\n",
    "The true difference in means is not equal to 0.\n",
    "\n",
    " 95% Confidence Interval:\n",
    "\\[\n",
    "[-0.9278637, 0.9040722]\n",
    "\\]\n",
    "\n",
    " Sample Estimates:\n",
    "- **Mean of `x`**: 19.10497  \n",
    "- **Mean of `y`**: 19.11686\n",
    "\n",
    "#### Question III.3 (7)\n",
    "Is there a significant difference in the average temperature between the two months on a\n",
    "significance level α = 0.05?\n"
   ]
  },
  {
   "cell_type": "code",
   "execution_count": 16,
   "metadata": {},
   "outputs": [
    {
     "name": "stdout",
     "output_type": "stream",
     "text": [
      "There is no significant difference in the average temperature between the two months.\n"
     ]
    }
   ],
   "source": [
    "# Given p-value from the Welch Two Sample t-test\n",
    "p_value_welch = 0.9793\n",
    "\n",
    "# Significance level\n",
    "alpha = 0.05\n",
    "\n",
    "# Determine if there is a significant difference\n",
    "if p_value_welch < alpha:\n",
    "    print(\"There is a significant difference in the average temperature between the two months.\")\n",
    "else:\n",
    "    print(\"There is no significant difference in the average temperature between the two months.\")"
   ]
  },
  {
   "cell_type": "markdown",
   "metadata": {},
   "source": [
    "So here the correct awnser is 4."
   ]
  },
  {
   "cell_type": "markdown",
   "metadata": {},
   "source": [
    "#### Question III.4 (8)\n",
    "Suppose we instead had used the (unprovided) test statistic Q for testing if there is a significant\n",
    "temperature difference between the two months. What are the critical values using a significance\n",
    "level α = 0.01?\n"
   ]
  },
  {
   "cell_type": "code",
   "execution_count": 17,
   "metadata": {},
   "outputs": [
    {
     "name": "stdout",
     "output_type": "stream",
     "text": [
      "Critical values at α = 0.01: [-2.6707, 2.6707]\n"
     ]
    }
   ],
   "source": [
    "# Given degrees of freedom for the Welch Two Sample t-test\n",
    "df_welch = 53.627\n",
    "\n",
    "# Significance level for the two-tailed test\n",
    "alpha_01 = 0.01\n",
    "\n",
    "# Calculate the critical t-values for a two-tailed test\n",
    "t_critical_low = t.ppf(alpha_01 / 2, df_welch)\n",
    "t_critical_high = t.ppf(1 - alpha_01 / 2, df_welch)\n",
    "\n",
    "print(f\"Critical values at α = 0.01: [{t_critical_low:.4f}, {t_critical_high:.4f}]\")"
   ]
  },
  {
   "cell_type": "markdown",
   "metadata": {},
   "source": [
    "Here the correct awsner is 5."
   ]
  },
  {
   "cell_type": "markdown",
   "metadata": {},
   "source": [
    "#### Question III.5 (9)\n",
    "\n",
    "The house owner now wants to test if there is a difference between two specific days, while taking the hour of day into account.  \n",
    "He therefore considers a **paired t-test** for the comparison.\n",
    "\n",
    "If $X_i$ and $Y_i$ denote the outcomes from the two samples used in the paired t-test, which of the following statements about the assumptions of the statistical model is correct?\n",
    "\n",
    "We use the notation:\n",
    "- $V[X_i] = \\sigma^2_X$,  \n",
    "- $V[Y_i] = \\sigma^2_Y$,  \n",
    "- $V[X_i - Y_i] = \\sigma^2_{X-Y}$  \n",
    "\n",
    "for the variances, and:\n",
    "- $\\mu_X$, $\\mu_Y$ for the means of the two samples,  \n",
    "- $\\mu$ for the difference in means.\n"
   ]
  },
  {
   "cell_type": "markdown",
   "metadata": {},
   "source": [
    "The correct answer is 3.\n",
    "\n",
    "The assumptions of the paired t-test are:\n",
    "\n",
    "1. The differences $ D_i = X_i - Y_i $ are independent and identically distributed (i.i.d.).\n",
    "2. The differences $ D_i  are normally distributed.\n",
    "3. The mean of the differences $ D_i $ is $mu$\n",
    "4. The variance of the differences $ D_i $ is $\\sigma^2_{X-Y}$.\n",
    "\n",
    "Therefore, the correct statement is:\n",
    "\n",
    "3. □ The differences $ D_i = X_i - Y_i $ are normally distributed with mean $\\mu$ and variance $\\sigma^2_{X-Y}$."
   ]
  },
  {
   "cell_type": "markdown",
   "metadata": {},
   "source": [
    "## Exercise IV\n",
    "An energy trading company wants to learn about the electricity price in a particular area for\n",
    "a particular period. They download data from the market and calculate the daily electricity\n",
    "price and relevant weather variables. The following variables are in the data set:\n",
    "* Price: the electricity price in the market\n",
    "* Cloudcover: cloud cover (in %)\n",
    "* Humid: relative humidity\n",
    "* Temperature: temperature\n",
    "* Windspeed: wind speed\n"
   ]
  },
  {
   "cell_type": "code",
   "execution_count": null,
   "metadata": {
    "vscode": {
     "languageId": "yaml"
    }
   },
   "outputs": [],
   "source": [
    "##\n",
    "## Call:\n",
    "## lm(formula = Price ~ Cloudcover + Humid + Temperature + Windspeed)\n",
    "##\n",
    "## Residuals:\n",
    "## Min 1Q Median 3Q Max\n",
    "## -0.30525 -0.04983 0.02637 0.07770 0.18326\n",
    "##\n",
    "## Coefficients:\n",
    "## Estimate Std. Error t value Pr(>|t|)\n",
    "## (Intercept) 0.4419418 0.1080436 4.090 0.000139 ***\n",
    "## Cloudcover 0.0003513 0.0006310 0.557 0.579901\n",
    "## Humid 0.0003016 0.0010300 0.293 0.770754\n",
    "## Temperature 0.0098091 0.0041229 2.379 0.020784 *\n",
    "## Windspeed -0.0529552 0.0127183 -4.164 0.000109 ***\n",
    "## ---\n",
    "## Signif. codes: 0 '***' 0.001 '**' 0.01 '*' 0.05 '.' 0.1 ' ' 1\n",
    "##\n",
    "## Residual standard error: 0.1112 on 56 degrees of freedom\n",
    "## Multiple R-squared: 0.3757,Adjusted R-squared: 0.3311\n",
    "## F-statistic: 8.427 on 4 and 56 DF, p-value: 2.146e-05"
   ]
  },
  {
   "cell_type": "markdown",
   "metadata": {},
   "source": [
    "#### Question IV.1 (10)\n",
    "How many days are included in the data set?"
   ]
  },
  {
   "cell_type": "code",
   "execution_count": 30,
   "metadata": {},
   "outputs": [
    {
     "name": "stdout",
     "output_type": "stream",
     "text": [
      "Number of days included in the data set = 61\n"
     ]
    }
   ],
   "source": [
    "# Given degrees of freedom for residuals\n",
    "residual_df = 56\n",
    "\n",
    "# Number of parameters (including intercept)\n",
    "n_parameters = 5  # Intercept + 4 predictors\n",
    "\n",
    "# Calculate the number of days (observations)\n",
    "n_observations = residual_df + n_parameters\n",
    "\n",
    "print(f\"Number of days included in the data set = {n_observations}\")\n"
   ]
  },
  {
   "cell_type": "markdown",
   "metadata": {},
   "source": [
    "So the awnser here is 5."
   ]
  },
  {
   "cell_type": "markdown",
   "metadata": {},
   "source": [
    "#### Question IV.2 (11)\n",
    "What is the result of the first backward selection step on the model when using a significance\n",
    "level α = 0.05 (both the conclusion and the argument must be correct)?"
   ]
  },
  {
   "cell_type": "markdown",
   "metadata": {},
   "source": [
    "Here the awnser is 1. Humid should be removed, since 0.771 > 0.580 > 0.05"
   ]
  },
  {
   "cell_type": "markdown",
   "metadata": {},
   "source": [
    "#### Question IV.3 (12)\n",
    "Disregarding any conclusion about a potential model reduction, which of the following conclusions can be drawn for the market at the particular period with the estimated result?"
   ]
  },
  {
   "cell_type": "code",
   "execution_count": 7,
   "metadata": {},
   "outputs": [
    {
     "name": "stdout",
     "output_type": "stream",
     "text": [
      "Regression Summary:\n",
      "      Variable  Estimate  Std. Error  t value  Pr(>|t|)\n",
      "0    Intercept  0.441942    0.108044    4.090  0.000139\n",
      "1   Cloudcover  0.000351    0.000631    0.557  0.579901\n",
      "2        Humid  0.000302    0.001030    0.293  0.770754\n",
      "3  Temperature  0.009809    0.004123    2.379  0.020784\n",
      "4    Windspeed -0.052955    0.012718   -4.164  0.000109\n",
      "\n",
      "Model Statistics:\n",
      "Residual Standard Error: 0.1112 on 56 degrees of freedom\n",
      "R-squared: 0.3757\n",
      "Adjusted R-squared: 0.3311\n",
      "F-statistic: 8.427, p-value: 2.146e-05\n",
      "\n",
      "Conclusions:\n",
      "Cloudcover is not statistically significant with p-value = 0.579901.\n",
      "Humid is not statistically significant with p-value = 0.770754.\n",
      "Temperature is statistically significant with p-value = 0.020784.\n",
      "Windspeed is statistically significant with p-value = 0.000109.\n",
      "R-squared: 37.5700%\n"
     ]
    }
   ],
   "source": [
    "# Define regression results based on the provided R summary\n",
    "regression_results = {\n",
    "    \"Variable\": [\"Intercept\", \"Cloudcover\", \"Humid\", \"Temperature\", \"Windspeed\"],\n",
    "    \"Estimate\": [0.4419418, 0.0003513, 0.0003016, 0.0098091, -0.0529552],\n",
    "    \"Std. Error\": [0.1080436, 0.0006310, 0.0010300, 0.0041229, 0.0127183],\n",
    "    \"t value\": [4.090, 0.557, 0.293, 2.379, -4.164],\n",
    "    \"Pr(>|t|)\": [0.000139, 0.579901, 0.770754, 0.020784, 0.000109],\n",
    "}\n",
    "\n",
    "# Convert to a DataFrame\n",
    "df_results = pd.DataFrame(regression_results)\n",
    "\n",
    "# Display the summary data\n",
    "print(\"Regression Summary:\")\n",
    "print(df_results)\n",
    "\n",
    "# Model statistics\n",
    "r_squared = 0.3757\n",
    "adjusted_r_squared = 0.3311\n",
    "f_statistic = 8.427\n",
    "f_statistic_p_value = 2.146e-05\n",
    "residual_standard_error = 0.1112\n",
    "degrees_of_freedom = 56\n",
    "\n",
    "# Print model statistics\n",
    "print(\"\\nModel Statistics:\")\n",
    "print(f\"Residual Standard Error: {residual_standard_error} on {degrees_of_freedom} degrees of freedom\")\n",
    "print(f\"R-squared: {r_squared}\")\n",
    "print(f\"Adjusted R-squared: {adjusted_r_squared}\")\n",
    "print(f\"F-statistic: {f_statistic}, p-value: {f_statistic_p_value}\")\n",
    "\n",
    "# Interpretations\n",
    "print(\"\\nConclusions:\")\n",
    "for _, row in df_results.iterrows():\n",
    "    variable = row[\"Variable\"]\n",
    "    p_value = row[\"Pr(>|t|)\"]\n",
    "    if variable == \"Intercept\":\n",
    "        continue\n",
    "    if p_value < 0.05:\n",
    "        significance = \"statistically significant\"\n",
    "    else:\n",
    "        significance = \"not statistically significant\"\n",
    "    print(f\"{variable} is {significance} with p-value = {p_value:.6f}.\")\n",
    "\n",
    "# convert r-squared to percentage\n",
    "r_squared_percentage = r_squared * 100\n",
    "print(f\"R-squared: {r_squared_percentage:.4f}%\")"
   ]
  },
  {
   "cell_type": "markdown",
   "metadata": {},
   "source": [
    "Here the awnser is 5. The model can explain 37.6% of the observed variation in the price in the period"
   ]
  },
  {
   "cell_type": "markdown",
   "metadata": {},
   "source": [
    "## Exercise V\n",
    "This exercise contains questions related to supermarkets.\n",
    "#### Question V.1 (13)\n",
    "Back in the days, the cashiers in the supermarket entered the prices manually on the cash\n",
    "register. When employees were tired, they would often make errors when entering the prices.\n",
    "Assume that for a particular situation, they randomly made a price error for 5% of the costumers. Assume independence of the price enterings.\n",
    "What is the probability that 10 or more out of 100 customers would experience a price error?\n"
   ]
  },
  {
   "cell_type": "code",
   "execution_count": 8,
   "metadata": {},
   "outputs": [
    {
     "name": "stdout",
     "output_type": "stream",
     "text": [
      "Probability that 10 or more out of 100 customers would experience a price error: 0.0282\n"
     ]
    }
   ],
   "source": [
    "# Given probability of error\n",
    "p_error = 0.05\n",
    "\n",
    "# Number of customers\n",
    "n_customers = 100\n",
    "\n",
    "# Calculate the probability of 10 or more errors\n",
    "prob_10_or_more_errors = 1 - binom.cdf(9, n_customers, p_error)\n",
    "\n",
    "print(f\"Probability that 10 or more out of 100 customers would experience a price error: {prob_10_or_more_errors:.4f}\")"
   ]
  },
  {
   "cell_type": "markdown",
   "metadata": {},
   "source": [
    "Here the awnser is 3."
   ]
  },
  {
   "cell_type": "markdown",
   "metadata": {},
   "source": [
    "#### Question V.2 (14)\n",
    "In a study of a supermarket, the arrival rate of customers is assumed to be 200 customers/hour\n",
    "in the peak hours. Customers arrive according to a Poisson process. If more than 250 customers\n",
    "arrive in an hour, the store’s capacity will be exceeded. What is the probability that the store’s\n",
    "capacity is not exceeded during a peak hour?\n"
   ]
  },
  {
   "cell_type": "code",
   "execution_count": 9,
   "metadata": {},
   "outputs": [
    {
     "name": "stdout",
     "output_type": "stream",
     "text": [
      "Probability that the store's capacity is not exceeded during a peak hour: 0.9997\n"
     ]
    }
   ],
   "source": [
    "# Given arrival rate (λ) and capacity limit\n",
    "arrival_rate = 200\n",
    "capacity_limit = 250\n",
    "\n",
    "# Calculate the probability that the store's capacity is not exceeded\n",
    "prob_not_exceeded = poisson.cdf(capacity_limit, arrival_rate)\n",
    "\n",
    "print(f\"Probability that the store's capacity is not exceeded during a peak hour: {prob_not_exceeded:.4f}\")"
   ]
  },
  {
   "cell_type": "markdown",
   "metadata": {},
   "source": [
    "Here the awnser is 5."
   ]
  },
  {
   "cell_type": "markdown",
   "metadata": {},
   "source": [
    "#### Question V.3 (15)\n",
    "Let X ∼ N(µ, σ2) denote the average daily turnover in a particular supermarket store. The\n",
    "store was open 5 days a week, and it can be assumed that the daily turnovers are independent\n",
    "between days.\n",
    "\n",
    "One of the following plots show the probability density of the weekly turnover. Which one?\n"
   ]
  },
  {
   "cell_type": "code",
   "execution_count": 11,
   "metadata": {},
   "outputs": [
    {
     "data": {
      "image/png": "[encoded data removed]",
      "text/plain": [
       "<Figure size 1000x600 with 1 Axes>"
      ]
     },
     "metadata": {},
     "output_type": "display_data"
    }
   ],
   "source": [
    "# Given parameters for daily turnover\n",
    "mu_daily = 1000  # Example mean value\n",
    "sigma_daily = 200  # Example standard deviation\n",
    "\n",
    "# Parameters for weekly turnover\n",
    "mu_weekly = 5 * mu_daily\n",
    "sigma_weekly = np.sqrt(5) * sigma_daily\n",
    "\n",
    "# Generate x values for the plot\n",
    "x = np.linspace(mu_weekly - 4 * sigma_weekly, mu_weekly + 4 * sigma_weekly, 1000)\n",
    "\n",
    "# Calculate the probability density function\n",
    "pdf = norm.pdf(x, mu_weekly, sigma_weekly)\n",
    "\n",
    "# Plot the probability density function\n",
    "plt.figure(figsize=(10, 6))\n",
    "plt.plot(x, pdf, label='Weekly Turnover Distribution')\n",
    "plt.xlabel('Weekly Turnover')\n",
    "plt.ylabel('Probability Density')\n",
    "plt.title('Probability Density of Weekly Turnover')\n",
    "plt.legend()\n",
    "plt.grid(True)\n",
    "plt.show()"
   ]
  },
  {
   "cell_type": "markdown",
   "metadata": {},
   "source": [
    "Here the awnser is 1."
   ]
  },
  {
   "cell_type": "markdown",
   "metadata": {},
   "source": [
    "## Exercise VI\n",
    "Let X and Y be two independent exponentially distributed random variables with rates 1.2\n",
    "and 1.7, respectively.\n",
    "#### Question VI.1 (16)\n",
    "We are interested in the probability that X + Y is greater than 3. Use simulation to assess\n",
    "which of the values below is the correct result. We recommend that you use at least 10000\n",
    "simulations."
   ]
  },
  {
   "cell_type": "code",
   "execution_count": 12,
   "metadata": {},
   "outputs": [
    {
     "name": "stdout",
     "output_type": "stream",
     "text": [
      "Probability that X + Y is greater than 3: 0.0818\n"
     ]
    }
   ],
   "source": [
    "# Set the rates for the exponential distributions\n",
    "rate_X = 1.2\n",
    "rate_Y = 1.7\n",
    "\n",
    "# Number of simulations\n",
    "n_simulations = 10000\n",
    "\n",
    "# Generate random samples from exponential distributions\n",
    "samples_X = np.random.exponential(1/rate_X, n_simulations)\n",
    "samples_Y = np.random.exponential(1/rate_Y, n_simulations)\n",
    "\n",
    "# Calculate the sum of X and Y\n",
    "samples_sum = samples_X + samples_Y\n",
    "\n",
    "# Calculate the probability that X + Y is greater than 3\n",
    "prob_X_plus_Y_greater_than_3 = np.mean(samples_sum > 3)\n",
    "\n",
    "print(f\"Probability that X + Y is greater than 3: {prob_X_plus_Y_greater_than_3:.4f}\")"
   ]
  },
  {
   "cell_type": "markdown",
   "metadata": {},
   "source": [
    "Here the awnser that is closet is 1, this is also the correct awnser."
   ]
  },
  {
   "cell_type": "markdown",
   "metadata": {},
   "source": [
    "## Exercise VII\n",
    "The simple linear regression model is given by\n",
    "$$\n",
    "Yi = β0 + β1xi + εi,\n",
    "$$\n",
    "where $εi ∼ N(0, σ^2)$ and are independent, i = 1, . . . , n.\n",
    "\n",
    "The simple linear regression model is fitted, and the result is printed below. Note that some\n",
    "of the values have been replaced by letters:\n"
   ]
  },
  {
   "cell_type": "code",
   "execution_count": 13,
   "metadata": {},
   "outputs": [
    {
     "name": "stdout",
     "output_type": "stream",
     "text": [
      "Regression Coefficients:\n",
      "    Variable  Estimate  Std. Error  t value Pr(>|t|)\n",
      "0  Intercept  -0.43369     0.49844    -0.87    0.392\n",
      "1          x       NaN     0.09284    19.95   <2e-16\n",
      "\n",
      "Model Statistics:\n",
      "Residual Standard Error: 2.636 on 28 degrees of freedom\n",
      "R-squared: 0.9342\n",
      "Adjusted R-squared: 0.9319\n",
      "F-statistic: 397.8, p-value: <2.2e-16\n",
      "\n",
      "Conclusions:\n",
      "The predictor 'x' is statistically significant and has a strong effect on the response variable 'y'.\n",
      "The intercept is not statistically significant, meaning it may not be meaningful in this model.\n",
      "The model explains 93.42% of the variability in 'y', indicating an excellent fit.\n"
     ]
    }
   ],
   "source": [
    "# Regression summary data\n",
    "summary_data = {\n",
    "    \"Variable\": [\"Intercept\", \"x\"],\n",
    "    \"Estimate\": [-0.43369, None],  # Replace None with the actual value for A if available\n",
    "    \"Std. Error\": [0.49844, 0.09284],\n",
    "    \"t value\": [-0.87, 19.95],\n",
    "    \"Pr(>|t|)\": [0.392, \"<2e-16\"]\n",
    "}\n",
    "\n",
    "# Model statistics\n",
    "residual_standard_error = 2.636\n",
    "degrees_of_freedom = 28\n",
    "r_squared = 0.9342\n",
    "adjusted_r_squared = 0.9319\n",
    "f_statistic = 397.8\n",
    "f_statistic_p_value = \"<2.2e-16\"\n",
    "\n",
    "# Convert summary data to DataFrame for display\n",
    "df_summary = pd.DataFrame(summary_data)\n",
    "\n",
    "# Print regression coefficients\n",
    "print(\"Regression Coefficients:\")\n",
    "print(df_summary)\n",
    "\n",
    "# Print model statistics\n",
    "print(\"\\nModel Statistics:\")\n",
    "print(f\"Residual Standard Error: {residual_standard_error} on {degrees_of_freedom} degrees of freedom\")\n",
    "print(f\"R-squared: {r_squared}\")\n",
    "print(f\"Adjusted R-squared: {adjusted_r_squared}\")\n",
    "print(f\"F-statistic: {f_statistic}, p-value: {f_statistic_p_value}\")\n",
    "\n",
    "# Interpretations\n",
    "print(\"\\nConclusions:\")\n",
    "if df_summary.loc[df_summary['Variable'] == 'x', 'Pr(>|t|)'].values[0] == \"<2e-16\":\n",
    "    print(\"The predictor 'x' is statistically significant and has a strong effect on the response variable 'y'.\")\n",
    "else:\n",
    "    print(\"The predictor 'x' is not statistically significant.\")\n",
    "\n",
    "if df_summary.loc[df_summary['Variable'] == 'Intercept', 'Pr(>|t|)'].values[0] >= 0.05:\n",
    "    print(\"The intercept is not statistically significant, meaning it may not be meaningful in this model.\")\n",
    "else:\n",
    "    print(\"The intercept is statistically significant.\")\n",
    "\n",
    "if r_squared > 0.9:\n",
    "    print(f\"The model explains {r_squared * 100:.2f}% of the variability in 'y', indicating an excellent fit.\")"
   ]
  },
  {
   "cell_type": "markdown",
   "metadata": {},
   "source": [
    "#### Question VII.1 (17)\n",
    "Which of the following values should replace A in the result (hint: looking at the figure can also\n",
    "be of help)?\n",
    "* -0.73\n",
    "*  0.73\n",
    "*  1.85\n",
    "*  9.46\n",
    "*  20.15\n"
   ]
  },
  {
   "cell_type": "code",
   "execution_count": 14,
   "metadata": {},
   "outputs": [
    {
     "name": "stdout",
     "output_type": "stream",
     "text": [
      "The estimated value for A is: 1.85\n"
     ]
    }
   ],
   "source": [
    "# Given values\n",
    "t_value = 19.95  # t-value for the slope\n",
    "std_error = 0.09284  # Standard Error of the slope\n",
    "\n",
    "# Calculate the estimate for the slope\n",
    "estimate = t_value * std_error\n",
    "\n",
    "# Print the result\n",
    "print(f\"The estimated value for A is: {estimate:.2f}\")"
   ]
  },
  {
   "cell_type": "markdown",
   "metadata": {},
   "source": [
    "So the awnser here is 3."
   ]
  },
  {
   "cell_type": "markdown",
   "metadata": {},
   "source": [
    "#### Question VII.2 (18)\n",
    "Which of the following calls in R calculates the width of the 99% confidence interval for β0?"
   ]
  },
  {
   "cell_type": "code",
   "execution_count": 15,
   "metadata": {},
   "outputs": [
    {
     "name": "stdout",
     "output_type": "stream",
     "text": [
      "The width of the 99% confidence interval for β0 is: 2.7546\n"
     ]
    }
   ],
   "source": [
    "# Given values\n",
    "alpha = 0.01  # 99% confidence level implies alpha = 0.01\n",
    "df = 28  # Degrees of freedom\n",
    "std_error_beta0 = 0.49844  # Standard error of the intercept\n",
    "\n",
    "# Calculate the critical value\n",
    "critical_value = t.ppf(1 - alpha / 2, df)\n",
    "\n",
    "# Calculate the width of the confidence interval\n",
    "width = 2 * critical_value * std_error_beta0\n",
    "\n",
    "# Print the result\n",
    "print(f\"The width of the 99% confidence interval for β0 is: {width:.4f}\")"
   ]
  },
  {
   "cell_type": "markdown",
   "metadata": {},
   "source": [
    "## Exercise VIII\n",
    "The Danish Health Authority (DHA) is designing a survey to examine the drinking habits of\n",
    "young adults in Denmark. Specifically, the DHA wants to estimate the proportion of young\n",
    "adults in Denmark that drink more than the maximum recommended units of alcohol in an\n",
    "average week. The DHA wants the estimate to be within 0.01 of the true proportion with 95%\n",
    "probability.\n",
    "#### Question VIII.1 (19)\n",
    "What is the minimum number of young adults that should be included in the survey to achieve\n",
    "the desired precision (we refrain from making any assumptions about true proportion)?\n"
   ]
  },
  {
   "cell_type": "code",
   "execution_count": 16,
   "metadata": {},
   "outputs": [
    {
     "name": "stdout",
     "output_type": "stream",
     "text": [
      "Minimum number of young adults to be included in the survey: 9604\n"
     ]
    }
   ],
   "source": [
    "# Given values\n",
    "Z = 1.96  # Z-value for 95% confidence level\n",
    "E = 0.01  # Margin of error\n",
    "p = 0.5   # Estimated proportion for maximum variability\n",
    "\n",
    "# Calculate the minimum sample size\n",
    "n = (Z**2 * p * (1 - p)) / E**2\n",
    "n = int(n) + 1  # Round up to the next whole number\n",
    "\n",
    "print(f\"Minimum number of young adults to be included in the survey: {n}\")"
   ]
  },
  {
   "cell_type": "markdown",
   "metadata": {},
   "source": [
    "Here the awnser is 3."
   ]
  },
  {
   "cell_type": "markdown",
   "metadata": {},
   "source": [
    "#### Question VIII.2 (20)\n",
    "In a previous study including 400 young adults, statisticians from the DHA accepted the null\n",
    "hypothesis H0 : p = 0.25 at a 10% significance level. What is the least possible estimate of the\n",
    "proportion that the statisticians could have found in the study?\n"
   ]
  },
  {
   "cell_type": "code",
   "execution_count": 18,
   "metadata": {},
   "outputs": [
    {
     "name": "stdout",
     "output_type": "stream",
     "text": [
      "The least possible estimate of the proportion is: 0.2144\n",
      "The least possible estimate of the proportion is: 21.4388%\n"
     ]
    }
   ],
   "source": [
    "# Given values\n",
    "n = 400  # Sample size\n",
    "p_null = 0.25  # Null hypothesis proportion\n",
    "alpha = 0.10  # Significance level\n",
    "\n",
    "# Calculate the critical value for the lower bound\n",
    "z_critical = norm.ppf(alpha / 2)\n",
    "\n",
    "# Calculate the standard error\n",
    "standard_error = (p_null * (1 - p_null) / n) ** 0.5\n",
    "\n",
    "# Calculate the lower bound of the confidence interval\n",
    "lower_bound = p_null + z_critical * standard_error\n",
    "\n",
    "print(f\"The least possible estimate of the proportion is: {lower_bound:.4f}\")\n",
    "\n",
    "#convert to percentage\n",
    "lower_bound_percentage = lower_bound * 100\n",
    "print(f\"The least possible estimate of the proportion is: {lower_bound_percentage:.4f}%\")"
   ]
  },
  {
   "cell_type": "markdown",
   "metadata": {},
   "source": [
    "Again here we need to do some rounding up, the correct awser is 3."
   ]
  },
  {
   "cell_type": "markdown",
   "metadata": {},
   "source": [
    "## Exercise IX\n",
    "\n",
    "#### Skipped due to being r code"
   ]
  },
  {
   "cell_type": "markdown",
   "metadata": {},
   "source": [
    "## Exercise X\n",
    "\n",
    "A hospital took blood samples from 469 randomly selected people of different age and screened the samples for a specific chemical. The results of the screenings are given in Table 1 below:\n",
    "\n",
    "|                    | Age group 1 | Age group 2 | Age group 3 | Age group 4 | Total |\n",
    "|--------------------|-------------|-------------|-------------|-------------|-------|\n",
    "| Chemical not detected | 17          | 28          | 21          | 15          | 81    |\n",
    "| Chemical detected     | 73          | 138         | 105         | 72          | 388   |\n",
    "| Total                 | 90          | 166         | 126         | 87          | 469   |\n",
    "\n",
    "The data can be read into python:\n"
   ]
  },
  {
   "cell_type": "code",
   "execution_count": 28,
   "metadata": {},
   "outputs": [
    {
     "name": "stdout",
     "output_type": "stream",
     "text": [
      "Table 1:\n",
      "[[ 17  28  21  15]\n",
      " [ 73 138 105  72]]\n"
     ]
    }
   ],
   "source": [
    "# Create the matrix\n",
    "table1 = np.array([[17, 28, 21, 15], \n",
    "                   [73, 138, 105, 72]])\n",
    "\n",
    "# Print the matrix\n",
    "print(\"Table 1:\")\n",
    "print(table1)"
   ]
  },
  {
   "cell_type": "markdown",
   "metadata": {},
   "source": [
    "#### Question X.1 (24)\n",
    "Under the null hypothesis that the probability of a sample having traces of the chemical is the\n",
    "same across the different age groups, what is the expected number of samples without traces\n",
    "of the chemical taken from people in age group 3?"
   ]
  },
  {
   "cell_type": "code",
   "execution_count": 29,
   "metadata": {},
   "outputs": [
    {
     "name": "stdout",
     "output_type": "stream",
     "text": [
      "Expected number of samples without traces of the chemical in age group 3: 21.7612\n"
     ]
    }
   ],
   "source": [
    "# Total number of samples\n",
    "grand_total = table1.sum()\n",
    "\n",
    "# Total number of samples in age group 3\n",
    "age_group_3_total = table1[:, 2].sum()\n",
    "\n",
    "# Total number of samples without traces of the chemical\n",
    "no_chemical_total = table1[0, :].sum()\n",
    "\n",
    "# Calculate the expected number of samples without traces of the chemical in age group 3\n",
    "expected_no_chemical_age_group_3 = (no_chemical_total * age_group_3_total) / grand_total\n",
    "\n",
    "print(f\"Expected number of samples without traces of the chemical in age group 3: {expected_no_chemical_age_group_3:.4f}\")"
   ]
  },
  {
   "cell_type": "markdown",
   "metadata": {},
   "source": [
    "Here the correct awnser is 2"
   ]
  },
  {
   "cell_type": "markdown",
   "metadata": {},
   "source": [
    "#### Question X.2 (25)\n",
    "Which of the following is the correct conclusion when testing the null hypothesis that the\n",
    "probability of a sample having traces of the chemical is the same across the different age\n",
    "groups at a 5% significance level (both the argument and the conclusion must be correct)?\n",
    "* The p-value is 0.025 and the null hypothesis is therefore rejected\n",
    "* The p-value is 0.025 and the null hypothesis is therefore accepted\n",
    "* The p-value is 0.975 and the null hypothesis is therefore rejected\n",
    "* The p-value is 0.975 and the null hypothesis is therefore accepted\n",
    "* The p-value is 0.975 and the test is therefore inconclusive"
   ]
  },
  {
   "cell_type": "code",
   "execution_count": 30,
   "metadata": {},
   "outputs": [
    {
     "name": "stdout",
     "output_type": "stream",
     "text": [
      "p-value = 0.9750\n",
      "The p-value is 0.9750 and the null hypothesis is therefore accepted\n"
     ]
    }
   ],
   "source": [
    "# Perform chi-square test for independence\n",
    "chi2_stat, p_value, dof, expected = chi2_contingency(table1)\n",
    "\n",
    "# Significance level\n",
    "alpha = 0.05\n",
    "\n",
    "# Print the p-value\n",
    "print(f\"p-value = {p_value:.4f}\")\n",
    "\n",
    "# Conclusion\n",
    "if p_value < alpha:\n",
    "    print(\"The p-value is {:.4f} and the null hypothesis is therefore rejected\".format(p_value))\n",
    "else:\n",
    "    print(\"The p-value is {:.4f} and the null hypothesis is therefore accepted\".format(p_value))"
   ]
  },
  {
   "cell_type": "markdown",
   "metadata": {},
   "source": [
    "So here the awnser is 4."
   ]
  },
  {
   "cell_type": "markdown",
   "metadata": {},
   "source": [
    "#### Question X.3 (26)\n",
    "The samples that had traces of the chemical were further subdivided as shown in Table 2 below:\n",
    "\n",
    "|                    | Age group 1 | Age group 2 | Age group 3 | Age group 4 | Total |\n",
    "|--------------------|-------------|-------------|-------------|-------------|-------|\n",
    "| Type A detected    | 35          | 64          | 42          | 20          | 161   |\n",
    "| Type B detected    | 30          | 60          | 55          | 45          | 190   |\n",
    "| Type C detected    | 8           | 14          | 8           | 7           | 37    |\n",
    "| Total              | 73          | 138         | 105         | 72          | 388   |\n"
   ]
  },
  {
   "cell_type": "code",
   "execution_count": 31,
   "metadata": {},
   "outputs": [
    {
     "name": "stdout",
     "output_type": "stream",
     "text": [
      "Table 2:\n",
      "[[35 64 42 20]\n",
      " [30 60 55 45]\n",
      " [ 8 14  8  7]]\n"
     ]
    }
   ],
   "source": [
    "# Create the matrix\n",
    "table2 = np.array([[35, 64, 42, 20], \n",
    "                   [30, 60, 55, 45], \n",
    "                   [8, 14, 8, 7]])\n",
    "\n",
    "# Print the matrix\n",
    "print(\"Table 2:\")\n",
    "print(table2)"
   ]
  },
  {
   "cell_type": "markdown",
   "metadata": {},
   "source": [
    "Consider now only the samples with traces of the chemical. The hospital staff would like to\n",
    "test for independence between the type of chemical detected in a sample and the age group of\n",
    "the person who submitted the sample. Assuming the hospital invokes a 90% confidence level,\n",
    "which of the following statements is correct?\n"
   ]
  },
  {
   "cell_type": "code",
   "execution_count": 38,
   "metadata": {},
   "outputs": [
    {
     "name": "stdout",
     "output_type": "stream",
     "text": [
      "Chi-square statistic: 10.177\n",
      "Degrees of freedom: 6\n",
      "p-value: 0.1174\n",
      "Test statistic: 1.206\n",
      "Critical value at 90% confidence level: 10.645\n",
      "The test does not reject the null hypothesis of independence at the chosen significance level.\n"
     ]
    }
   ],
   "source": [
    "\n",
    "\n",
    "# Perform chi-square test for independence\n",
    "chi2_stat, p_value, dof, expected = chi2_contingency(table2)\n",
    "\n",
    "# Significance level\n",
    "alpha = 0.10\n",
    "\n",
    "# Print the results\n",
    "print(f\"Chi-square statistic: {chi2_stat:.3f}\")\n",
    "print(f\"Degrees of freedom: {dof}\")\n",
    "print(f\"p-value: {p_value:.4f}\")\n",
    "\n",
    "# Determine the critical value for the chi-square distribution with the given degrees of freedom\n",
    "chi2_critical = chi2.ppf(1 - alpha, dof)\n",
    "\n",
    "# Print the critical value\n",
    "print(f\"Critical value at 90% confidence level: {chi2_critical:.3f}\")\n",
    "\n",
    "# Check if any expected values are less than 5\n",
    "expected_less_than_5 = (expected < 5).any()\n",
    "\n",
    "# Conclusion\n",
    "if chi2_stat > chi2_critical:\n",
    "    conclusion = \"The test rejects the null hypothesis of independence at the chosen significance level.\"\n",
    "else:\n",
    "    conclusion = \"The test does not reject the null hypothesis of independence at the chosen significance level.\"\n",
    "\n",
    "if expected_less_than_5:\n",
    "    conclusion = \"The test is invalid as some of the calculated expected values are less than 5.\"\n",
    "\n",
    "print(conclusion)"
   ]
  },
  {
   "cell_type": "markdown",
   "metadata": {},
   "source": [
    "Here we can see that the Chi-square statistic so the correct awnser is 1."
   ]
  },
  {
   "cell_type": "markdown",
   "metadata": {},
   "source": [
    "## Exercise XI\n",
    "#### Question XI.1 (27)\n",
    "Bertil and Karin have collected data as part of their bachelor thesis, and as part of this, they\n",
    "are studying the relationship between two variables, height and time.\n",
    "They wish to apply a linear regression, but cannot agree on how to correctly check the model\n",
    "assumptions. Only one of the statements below is correct. Which one?\n",
    "\n",
    "* Non-parametric bootstrapping of the residuals would reveal if the assumptions of linear\n",
    "regression are met\n",
    "* A histogram of the height values would reveal if the normality assumption is met\n",
    "* The value of the coefficient of determination (R2) would reveal if the linearity assumption\n",
    "is met\n",
    "* A boxplot of the time values would reveal if the normality assumption is met\n",
    "* A QQ plot of the residuals would reveal if the normality assumption is met\n"
   ]
  },
  {
   "cell_type": "markdown",
   "metadata": {},
   "source": [
    "The awnser here is 5. A QQ plot of the residuals would reveal if the normality assumption is met"
   ]
  },
  {
   "cell_type": "markdown",
   "metadata": {},
   "source": [
    "## Exercise XII\n",
    "The following times were recorded by the quarter-mile runners and mile runners of a university\n",
    "track team (times are in minutes). The observations are read into python by:"
   ]
  },
  {
   "cell_type": "code",
   "execution_count": 39,
   "metadata": {},
   "outputs": [
    {
     "name": "stdout",
     "output_type": "stream",
     "text": [
      "Quarter Mile Times: [0.92, 0.98, 1.04, 0.9, 0.99]\n",
      "Mile Times: [4.52, 4.35, 4.6, 4.7, 4.5]\n"
     ]
    }
   ],
   "source": [
    "# Define the quarter mile times\n",
    "quarter_mile_times = [0.92, 0.98, 1.04, 0.90, 0.99]\n",
    "\n",
    "# Define the mile times\n",
    "mile_times = [4.52, 4.35, 4.60, 4.70, 4.50]\n",
    "\n",
    "# Print the data\n",
    "print(\"Quarter Mile Times:\", quarter_mile_times)\n",
    "print(\"Mile Times:\", mile_times)"
   ]
  },
  {
   "cell_type": "markdown",
   "metadata": {},
   "source": [
    "After viewing this sample of running times, one of the coaches commented that the quartermile\n",
    "runners turned in more consistent times.\n",
    "#### Question XII.1 (28)\n",
    "Calculate the standard deviation (s) and coefficient of variation (CV) to summarize the variability in the data.\n"
   ]
  },
  {
   "cell_type": "code",
   "execution_count": 40,
   "metadata": {},
   "outputs": [
    {
     "name": "stdout",
     "output_type": "stream",
     "text": [
      "Standard Deviation (Quarter Mile): 0.0564\n",
      "Coefficient of Variation (Quarter Mile): 5.84%\n",
      "Standard Deviation (Mile): 0.1295\n",
      "Coefficient of Variation (Mile): 2.86%\n"
     ]
    }
   ],
   "source": [
    "# Calculate the standard deviation for quarter mile times\n",
    "std_quarter_mile = np.std(quarter_mile_times, ddof=1)\n",
    "\n",
    "# Calculate the coefficient of variation for quarter mile times\n",
    "cv_quarter_mile = (std_quarter_mile / np.mean(quarter_mile_times)) * 100\n",
    "\n",
    "# Calculate the standard deviation for mile times\n",
    "std_mile = np.std(mile_times, ddof=1)\n",
    "\n",
    "# Calculate the coefficient of variation for mile times\n",
    "cv_mile = (std_mile / np.mean(mile_times)) * 100\n",
    "\n",
    "# Print the results\n",
    "print(f\"Standard Deviation (Quarter Mile): {std_quarter_mile:.4f}\")\n",
    "print(f\"Coefficient of Variation (Quarter Mile): {cv_quarter_mile:.2f}%\")\n",
    "print(f\"Standard Deviation (Mile): {std_mile:.4f}\")\n",
    "print(f\"Coefficient of Variation (Mile): {cv_mile:.2f}%\")"
   ]
  },
  {
   "cell_type": "markdown",
   "metadata": {},
   "source": [
    "Here the awnser is: 1. Quarter-mile runners: s = 0.0564, CV = 0.0584.\n",
    "Mile runners: s = 0.1295, CV = 0.0286."
   ]
  },
  {
   "cell_type": "markdown",
   "metadata": {},
   "source": [
    "## Exercise XIII\n",
    "A sample of 12 of the top-rated hotels in the United States has the following number of rooms\n",
    "and cost per night for a double room (as read in python)."
   ]
  },
  {
   "cell_type": "code",
   "execution_count": 41,
   "metadata": {},
   "outputs": [
    {
     "name": "stdout",
     "output_type": "stream",
     "text": [
      "Rooms: [220, 727, 285, 273, 145, 213, 398, 343, 250, 414, 400, 700]\n",
      "Cost: [499, 340, 585, 495, 495, 279, 279, 455, 595, 367, 675, 420]\n"
     ]
    }
   ],
   "source": [
    "# Define the rooms data\n",
    "rooms = [220, 727, 285, 273, 145, 213, 398, 343, 250, 414, 400, 700]\n",
    "\n",
    "# Define the cost data\n",
    "cost = [499, 340, 585, 495, 495, 279, 279, 455, 595, 367, 675, 420]\n",
    "\n",
    "# Print the data\n",
    "print(\"Rooms:\", rooms)\n",
    "print(\"Cost:\", cost)"
   ]
  },
  {
   "cell_type": "markdown",
   "metadata": {},
   "source": [
    "#### Question XIII.1 (29)\n",
    "What is the sample correlation coefficient r? What does it tell you about the relationship\n",
    "between the number of rooms and the cost per night for a double room?"
   ]
  },
  {
   "cell_type": "code",
   "execution_count": 42,
   "metadata": {},
   "outputs": [
    {
     "name": "stdout",
     "output_type": "stream",
     "text": [
      "Sample correlation coefficient (r) = -0.2933\n",
      "The correlation coefficient indicates a negative linear relationship between the number of rooms and the cost per night for a double room.\n"
     ]
    }
   ],
   "source": [
    "# Calculate the sample correlation coefficient\n",
    "r = np.corrcoef(rooms, cost)[0, 1]\n",
    "\n",
    "# Print the result\n",
    "print(f\"Sample correlation coefficient (r) = {r:.4f}\")\n",
    "\n",
    "# Interpretation\n",
    "if r > 0:\n",
    "    relationship = \"positive\"\n",
    "elif r < 0:\n",
    "    relationship = \"negative\"\n",
    "else:\n",
    "    relationship = \"no\"\n",
    "\n",
    "print(f\"The correlation coefficient indicates a {relationship} linear relationship between the number of rooms and the cost per night for a double room.\")"
   ]
  },
  {
   "cell_type": "markdown",
   "metadata": {},
   "source": [
    "Here the correct awnser is 5."
   ]
  },
  {
   "cell_type": "markdown",
   "metadata": {},
   "source": [
    "## Exercise XIV\n",
    "A sample was collected and its summary statistics were calculated.\n",
    "The sample is:\n",
    "\n",
    "3, 6, 7, 0, 6, 13, 3, 7, 9, 15\n",
    "\n",
    "The summary statistics are (rounded to two decimals):\n",
    "\n",
    "| Statistic         | Value  |\n",
    "|-------------------|--------|\n",
    "| $\\bar{x}$ (Mean)  | 6.9    |\n",
    "| $s$ (Std. Dev)    | 4.56   |\n",
    "| $s^2$ (Variance)  | 20.77  |\n",
    "| Minimum           | 0      |\n",
    "| Q1 (25th Percentile) | 3.75 |\n",
    "| Median            | 6.5    |\n",
    "| Q3 (75th Percentile) | 8.5 |\n",
    "| Maximum           | 15     |\n",
    "| $n$ (Sample Size) | 10     |\n",
    "\n",
    "#### Question XIV.1 (30)\n",
    "However, we suspect that there is an error in one of the summary statistics, which one?\n",
    "\n"
   ]
  },
  {
   "cell_type": "code",
   "execution_count": 43,
   "metadata": {},
   "outputs": [
    {
     "name": "stdout",
     "output_type": "stream",
     "text": [
      "Mean: 6.90\n",
      "Standard Deviation: 4.56\n",
      "Variance: 20.77\n",
      "Minimum: 0\n",
      "Q1 (25th Percentile): 3.75\n",
      "Median: 6.5\n",
      "Q3 (75th Percentile): 8.50\n",
      "Maximum: 15\n",
      "Sample Size: 10\n"
     ]
    }
   ],
   "source": [
    "# Given sample data\n",
    "sample = [3, 6, 7, 0, 6, 13, 3, 7, 9, 15]\n",
    "\n",
    "# Calculate the mean\n",
    "mean = np.mean(sample)\n",
    "\n",
    "# Calculate the standard deviation\n",
    "std_dev = np.std(sample, ddof=1)\n",
    "\n",
    "# Calculate the variance\n",
    "variance = np.var(sample, ddof=1)\n",
    "\n",
    "# Calculate the minimum\n",
    "minimum = np.min(sample)\n",
    "\n",
    "# Calculate the 25th percentile (Q1)\n",
    "q1 = np.percentile(sample, 25)\n",
    "\n",
    "# Calculate the median\n",
    "median = np.median(sample)\n",
    "\n",
    "# Calculate the 75th percentile (Q3)\n",
    "q3 = np.percentile(sample, 75)\n",
    "\n",
    "# Calculate the maximum\n",
    "maximum = np.max(sample)\n",
    "\n",
    "# Calculate the sample size\n",
    "n = len(sample)\n",
    "\n",
    "# Print the calculated summary statistics\n",
    "print(f\"Mean: {mean:.2f}\")\n",
    "print(f\"Standard Deviation: {std_dev:.2f}\")\n",
    "print(f\"Variance: {variance:.2f}\")\n",
    "print(f\"Minimum: {minimum}\")\n",
    "print(f\"Q1 (25th Percentile): {q1:.2f}\")\n",
    "print(f\"Median: {median}\")\n",
    "print(f\"Q3 (75th Percentile): {q3:.2f}\")\n",
    "print(f\"Maximum: {maximum}\")\n",
    "print(f\"Sample Size: {n}\")"
   ]
  },
  {
   "cell_type": "markdown",
   "metadata": {},
   "source": [
    "The awnser here is 5."
   ]
  }
 ],
 "metadata": {
  "kernelspec": {
   "display_name": "Python 3",
   "language": "python",
   "name": "python3"
  },
  "language_info": {
   "codemirror_mode": {
    "name": "ipython",
    "version": 3
   },
   "file_extension": ".py",
   "mimetype": "text/x-python",
   "name": "python",
   "nbconvert_exporter": "python",
   "pygments_lexer": "ipython3",
   "version": "3.11.9"
  }
 },
 "nbformat": 4,
 "nbformat_minor": 2
}
